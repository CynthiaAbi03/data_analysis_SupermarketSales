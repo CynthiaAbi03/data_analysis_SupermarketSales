{
 "cells": [
  {
   "cell_type": "code",
   "execution_count": 1,
   "id": "b6b627f0",
   "metadata": {},
   "outputs": [],
   "source": [
    "import pandas as pd\n",
    "import os\n",
    "import numpy as np\n",
    "import matplotlib.pyplot as plt\n",
    "import seaborn as sns\n",
    "sns.set_style(\"darkgrid\")"
   ]
  },
  {
   "cell_type": "code",
   "execution_count": 2,
   "id": "4c6e4072",
   "metadata": {},
   "outputs": [],
   "source": [
    "path = r'/Users/cynthiaabi/Desktop/Data_Science/dataScience_project_1/Sales_Data'\n",
    "folder = [file for file in os.listdir (r'/Users/cynthiaabi/Desktop/Data_Science/dataScience_project_1/Sales_Data')]"
   ]
  },
  {
   "cell_type": "code",
   "execution_count": 3,
   "id": "3e855ec3",
   "metadata": {},
   "outputs": [
    {
     "name": "stdout",
     "output_type": "stream",
     "text": [
      "Sales_December_2019.csv\n",
      "Sales_April_2019.csv\n",
      "Sales_February_2019.csv\n",
      "Sales_March_2019.csv\n",
      "Sales_August_2019.csv\n",
      "Sales_May_2019.csv\n",
      "Sales_November_2019.csv\n",
      "Sales_October_2019.csv\n",
      "Sales_January_2019.csv\n",
      "Sales_September_2019.csv\n",
      "Sales_July_2019.csv\n",
      "Sales_June_2019.csv\n"
     ]
    }
   ],
   "source": [
    "folder = [file for file in os.listdir (r'/Users/cynthiaabi/Desktop/Data_Science/dataScience_project_1/Sales_Data')]\n",
    "\n",
    "for file in folder :\n",
    "    print (file)"
   ]
  },
  {
   "cell_type": "markdown",
   "id": "0d90d408",
   "metadata": {},
   "source": [
    "# First impression of the database"
   ]
  },
  {
   "cell_type": "code",
   "execution_count": 4,
   "id": "bfd32352",
   "metadata": {},
   "outputs": [],
   "source": [
    "#I have a database with datasets which describe the sales obtained over a year (January-December of 2019).\n",
    "#These datasets may be from one or many organisations and may contain qualitative or quantitative analysis\n",
    "\n",
    "#Given that all the data sets refer to thesame type of originality(Sales), we can therefore concatenate our datasets\n",
    "#into one big dataset which will be the object of our study."
   ]
  },
  {
   "cell_type": "code",
   "execution_count": 5,
   "id": "a3dd8d54",
   "metadata": {},
   "outputs": [
    {
     "data": {
      "text/html": [
       "<div>\n",
       "<style scoped>\n",
       "    .dataframe tbody tr th:only-of-type {\n",
       "        vertical-align: middle;\n",
       "    }\n",
       "\n",
       "    .dataframe tbody tr th {\n",
       "        vertical-align: top;\n",
       "    }\n",
       "\n",
       "    .dataframe thead th {\n",
       "        text-align: right;\n",
       "    }\n",
       "</style>\n",
       "<table border=\"1\" class=\"dataframe\">\n",
       "  <thead>\n",
       "    <tr style=\"text-align: right;\">\n",
       "      <th></th>\n",
       "      <th>Order ID</th>\n",
       "      <th>Product</th>\n",
       "      <th>Quantity Ordered</th>\n",
       "      <th>Price Each</th>\n",
       "      <th>Order Date</th>\n",
       "      <th>Purchase Address</th>\n",
       "    </tr>\n",
       "  </thead>\n",
       "  <tbody>\n",
       "    <tr>\n",
       "      <th>0</th>\n",
       "      <td>295665</td>\n",
       "      <td>Macbook Pro Laptop</td>\n",
       "      <td>1</td>\n",
       "      <td>1700</td>\n",
       "      <td>12/30/19 00:01</td>\n",
       "      <td>136 Church St, New York City, NY 10001</td>\n",
       "    </tr>\n",
       "    <tr>\n",
       "      <th>1</th>\n",
       "      <td>295666</td>\n",
       "      <td>LG Washing Machine</td>\n",
       "      <td>1</td>\n",
       "      <td>600.0</td>\n",
       "      <td>12/29/19 07:03</td>\n",
       "      <td>562 2nd St, New York City, NY 10001</td>\n",
       "    </tr>\n",
       "    <tr>\n",
       "      <th>2</th>\n",
       "      <td>295667</td>\n",
       "      <td>USB-C Charging Cable</td>\n",
       "      <td>1</td>\n",
       "      <td>11.95</td>\n",
       "      <td>12/12/19 18:21</td>\n",
       "      <td>277 Main St, New York City, NY 10001</td>\n",
       "    </tr>\n",
       "    <tr>\n",
       "      <th>3</th>\n",
       "      <td>295668</td>\n",
       "      <td>27in FHD Monitor</td>\n",
       "      <td>1</td>\n",
       "      <td>149.99</td>\n",
       "      <td>12/22/19 15:13</td>\n",
       "      <td>410 6th St, San Francisco, CA 94016</td>\n",
       "    </tr>\n",
       "    <tr>\n",
       "      <th>4</th>\n",
       "      <td>295669</td>\n",
       "      <td>USB-C Charging Cable</td>\n",
       "      <td>1</td>\n",
       "      <td>11.95</td>\n",
       "      <td>12/18/19 12:38</td>\n",
       "      <td>43 Hill St, Atlanta, GA 30301</td>\n",
       "    </tr>\n",
       "    <tr>\n",
       "      <th>...</th>\n",
       "      <td>...</td>\n",
       "      <td>...</td>\n",
       "      <td>...</td>\n",
       "      <td>...</td>\n",
       "      <td>...</td>\n",
       "      <td>...</td>\n",
       "    </tr>\n",
       "    <tr>\n",
       "      <th>13617</th>\n",
       "      <td>222905</td>\n",
       "      <td>AAA Batteries (4-pack)</td>\n",
       "      <td>1</td>\n",
       "      <td>2.99</td>\n",
       "      <td>06/07/19 19:02</td>\n",
       "      <td>795 Pine St, Boston, MA 02215</td>\n",
       "    </tr>\n",
       "    <tr>\n",
       "      <th>13618</th>\n",
       "      <td>222906</td>\n",
       "      <td>27in FHD Monitor</td>\n",
       "      <td>1</td>\n",
       "      <td>149.99</td>\n",
       "      <td>06/01/19 19:29</td>\n",
       "      <td>495 North St, New York City, NY 10001</td>\n",
       "    </tr>\n",
       "    <tr>\n",
       "      <th>13619</th>\n",
       "      <td>222907</td>\n",
       "      <td>USB-C Charging Cable</td>\n",
       "      <td>1</td>\n",
       "      <td>11.95</td>\n",
       "      <td>06/22/19 18:57</td>\n",
       "      <td>319 Ridge St, San Francisco, CA 94016</td>\n",
       "    </tr>\n",
       "    <tr>\n",
       "      <th>13620</th>\n",
       "      <td>222908</td>\n",
       "      <td>USB-C Charging Cable</td>\n",
       "      <td>1</td>\n",
       "      <td>11.95</td>\n",
       "      <td>06/26/19 18:35</td>\n",
       "      <td>916 Main St, San Francisco, CA 94016</td>\n",
       "    </tr>\n",
       "    <tr>\n",
       "      <th>13621</th>\n",
       "      <td>222909</td>\n",
       "      <td>AAA Batteries (4-pack)</td>\n",
       "      <td>1</td>\n",
       "      <td>2.99</td>\n",
       "      <td>06/25/19 14:33</td>\n",
       "      <td>209 11th St, Atlanta, GA 30301</td>\n",
       "    </tr>\n",
       "  </tbody>\n",
       "</table>\n",
       "<p>186850 rows × 6 columns</p>\n",
       "</div>"
      ],
      "text/plain": [
       "      Order ID                 Product Quantity Ordered Price Each  \\\n",
       "0       295665      Macbook Pro Laptop                1       1700   \n",
       "1       295666      LG Washing Machine                1      600.0   \n",
       "2       295667    USB-C Charging Cable                1      11.95   \n",
       "3       295668        27in FHD Monitor                1     149.99   \n",
       "4       295669    USB-C Charging Cable                1      11.95   \n",
       "...        ...                     ...              ...        ...   \n",
       "13617   222905  AAA Batteries (4-pack)                1       2.99   \n",
       "13618   222906        27in FHD Monitor                1     149.99   \n",
       "13619   222907    USB-C Charging Cable                1      11.95   \n",
       "13620   222908    USB-C Charging Cable                1      11.95   \n",
       "13621   222909  AAA Batteries (4-pack)                1       2.99   \n",
       "\n",
       "           Order Date                        Purchase Address  \n",
       "0      12/30/19 00:01  136 Church St, New York City, NY 10001  \n",
       "1      12/29/19 07:03     562 2nd St, New York City, NY 10001  \n",
       "2      12/12/19 18:21    277 Main St, New York City, NY 10001  \n",
       "3      12/22/19 15:13     410 6th St, San Francisco, CA 94016  \n",
       "4      12/18/19 12:38           43 Hill St, Atlanta, GA 30301  \n",
       "...               ...                                     ...  \n",
       "13617  06/07/19 19:02           795 Pine St, Boston, MA 02215  \n",
       "13618  06/01/19 19:29   495 North St, New York City, NY 10001  \n",
       "13619  06/22/19 18:57   319 Ridge St, San Francisco, CA 94016  \n",
       "13620  06/26/19 18:35    916 Main St, San Francisco, CA 94016  \n",
       "13621  06/25/19 14:33          209 11th St, Atlanta, GA 30301  \n",
       "\n",
       "[186850 rows x 6 columns]"
      ]
     },
     "execution_count": 5,
     "metadata": {},
     "output_type": "execute_result"
    }
   ],
   "source": [
    "path = r'/Users/cynthiaabi/Desktop/Data_Science/dataScience_project_1/Sales_Data'\n",
    "data_base = pd.DataFrame()\n",
    "for file in folder :\n",
    "    current_data = pd.read_csv(path + '/' + file)\n",
    "    data_base = pd.concat([data_base, current_data])\n",
    "data_base"
   ]
  },
  {
   "cell_type": "markdown",
   "id": "178b5a93",
   "metadata": {},
   "source": [
    "# Description of the database"
   ]
  },
  {
   "cell_type": "code",
   "execution_count": 6,
   "id": "fea54f3b",
   "metadata": {},
   "outputs": [],
   "source": [
    "# origin of the database : our database has as origin the collection of data relative\n",
    "# to sales in different states in the USA.\n",
    "# Data Source: ERP software (Enterprise Resource planning). \n",
    "# Foresight : highest group of products sold, when to do publicity , etc.\n",
    "# brief overview \n"
   ]
  },
  {
   "cell_type": "code",
   "execution_count": 7,
   "id": "4d7898cd",
   "metadata": {},
   "outputs": [
    {
     "data": {
      "text/html": [
       "<div>\n",
       "<style scoped>\n",
       "    .dataframe tbody tr th:only-of-type {\n",
       "        vertical-align: middle;\n",
       "    }\n",
       "\n",
       "    .dataframe tbody tr th {\n",
       "        vertical-align: top;\n",
       "    }\n",
       "\n",
       "    .dataframe thead th {\n",
       "        text-align: right;\n",
       "    }\n",
       "</style>\n",
       "<table border=\"1\" class=\"dataframe\">\n",
       "  <thead>\n",
       "    <tr style=\"text-align: right;\">\n",
       "      <th></th>\n",
       "      <th>Order ID</th>\n",
       "      <th>Product</th>\n",
       "      <th>Quantity Ordered</th>\n",
       "      <th>Price Each</th>\n",
       "      <th>Order Date</th>\n",
       "      <th>Purchase Address</th>\n",
       "    </tr>\n",
       "  </thead>\n",
       "  <tbody>\n",
       "    <tr>\n",
       "      <th>0</th>\n",
       "      <td>295665</td>\n",
       "      <td>Macbook Pro Laptop</td>\n",
       "      <td>1</td>\n",
       "      <td>1700</td>\n",
       "      <td>12/30/19 00:01</td>\n",
       "      <td>136 Church St, New York City, NY 10001</td>\n",
       "    </tr>\n",
       "    <tr>\n",
       "      <th>1</th>\n",
       "      <td>295666</td>\n",
       "      <td>LG Washing Machine</td>\n",
       "      <td>1</td>\n",
       "      <td>600.0</td>\n",
       "      <td>12/29/19 07:03</td>\n",
       "      <td>562 2nd St, New York City, NY 10001</td>\n",
       "    </tr>\n",
       "    <tr>\n",
       "      <th>2</th>\n",
       "      <td>295667</td>\n",
       "      <td>USB-C Charging Cable</td>\n",
       "      <td>1</td>\n",
       "      <td>11.95</td>\n",
       "      <td>12/12/19 18:21</td>\n",
       "      <td>277 Main St, New York City, NY 10001</td>\n",
       "    </tr>\n",
       "    <tr>\n",
       "      <th>3</th>\n",
       "      <td>295668</td>\n",
       "      <td>27in FHD Monitor</td>\n",
       "      <td>1</td>\n",
       "      <td>149.99</td>\n",
       "      <td>12/22/19 15:13</td>\n",
       "      <td>410 6th St, San Francisco, CA 94016</td>\n",
       "    </tr>\n",
       "    <tr>\n",
       "      <th>4</th>\n",
       "      <td>295669</td>\n",
       "      <td>USB-C Charging Cable</td>\n",
       "      <td>1</td>\n",
       "      <td>11.95</td>\n",
       "      <td>12/18/19 12:38</td>\n",
       "      <td>43 Hill St, Atlanta, GA 30301</td>\n",
       "    </tr>\n",
       "    <tr>\n",
       "      <th>5</th>\n",
       "      <td>295670</td>\n",
       "      <td>AA Batteries (4-pack)</td>\n",
       "      <td>1</td>\n",
       "      <td>3.84</td>\n",
       "      <td>12/31/19 22:58</td>\n",
       "      <td>200 Jefferson St, New York City, NY 10001</td>\n",
       "    </tr>\n",
       "    <tr>\n",
       "      <th>6</th>\n",
       "      <td>295671</td>\n",
       "      <td>USB-C Charging Cable</td>\n",
       "      <td>1</td>\n",
       "      <td>11.95</td>\n",
       "      <td>12/16/19 15:10</td>\n",
       "      <td>928 12th St, Portland, OR 97035</td>\n",
       "    </tr>\n",
       "    <tr>\n",
       "      <th>7</th>\n",
       "      <td>295672</td>\n",
       "      <td>USB-C Charging Cable</td>\n",
       "      <td>2</td>\n",
       "      <td>11.95</td>\n",
       "      <td>12/13/19 09:29</td>\n",
       "      <td>813 Hickory St, Dallas, TX 75001</td>\n",
       "    </tr>\n",
       "    <tr>\n",
       "      <th>8</th>\n",
       "      <td>295673</td>\n",
       "      <td>Bose SoundSport Headphones</td>\n",
       "      <td>1</td>\n",
       "      <td>99.99</td>\n",
       "      <td>12/15/19 23:26</td>\n",
       "      <td>718 Wilson St, Dallas, TX 75001</td>\n",
       "    </tr>\n",
       "    <tr>\n",
       "      <th>9</th>\n",
       "      <td>295674</td>\n",
       "      <td>AAA Batteries (4-pack)</td>\n",
       "      <td>4</td>\n",
       "      <td>2.99</td>\n",
       "      <td>12/28/19 11:51</td>\n",
       "      <td>77 7th St, Dallas, TX 75001</td>\n",
       "    </tr>\n",
       "  </tbody>\n",
       "</table>\n",
       "</div>"
      ],
      "text/plain": [
       "  Order ID                     Product Quantity Ordered Price Each  \\\n",
       "0   295665          Macbook Pro Laptop                1       1700   \n",
       "1   295666          LG Washing Machine                1      600.0   \n",
       "2   295667        USB-C Charging Cable                1      11.95   \n",
       "3   295668            27in FHD Monitor                1     149.99   \n",
       "4   295669        USB-C Charging Cable                1      11.95   \n",
       "5   295670       AA Batteries (4-pack)                1       3.84   \n",
       "6   295671        USB-C Charging Cable                1      11.95   \n",
       "7   295672        USB-C Charging Cable                2      11.95   \n",
       "8   295673  Bose SoundSport Headphones                1      99.99   \n",
       "9   295674      AAA Batteries (4-pack)                4       2.99   \n",
       "\n",
       "       Order Date                           Purchase Address  \n",
       "0  12/30/19 00:01     136 Church St, New York City, NY 10001  \n",
       "1  12/29/19 07:03        562 2nd St, New York City, NY 10001  \n",
       "2  12/12/19 18:21       277 Main St, New York City, NY 10001  \n",
       "3  12/22/19 15:13        410 6th St, San Francisco, CA 94016  \n",
       "4  12/18/19 12:38              43 Hill St, Atlanta, GA 30301  \n",
       "5  12/31/19 22:58  200 Jefferson St, New York City, NY 10001  \n",
       "6  12/16/19 15:10            928 12th St, Portland, OR 97035  \n",
       "7  12/13/19 09:29           813 Hickory St, Dallas, TX 75001  \n",
       "8  12/15/19 23:26            718 Wilson St, Dallas, TX 75001  \n",
       "9  12/28/19 11:51                77 7th St, Dallas, TX 75001  "
      ]
     },
     "execution_count": 7,
     "metadata": {},
     "output_type": "execute_result"
    }
   ],
   "source": [
    "data_base.head(10)"
   ]
  },
  {
   "cell_type": "code",
   "execution_count": 8,
   "id": "28d502ae",
   "metadata": {},
   "outputs": [
    {
     "data": {
      "text/html": [
       "<div>\n",
       "<style scoped>\n",
       "    .dataframe tbody tr th:only-of-type {\n",
       "        vertical-align: middle;\n",
       "    }\n",
       "\n",
       "    .dataframe tbody tr th {\n",
       "        vertical-align: top;\n",
       "    }\n",
       "\n",
       "    .dataframe thead th {\n",
       "        text-align: right;\n",
       "    }\n",
       "</style>\n",
       "<table border=\"1\" class=\"dataframe\">\n",
       "  <thead>\n",
       "    <tr style=\"text-align: right;\">\n",
       "      <th></th>\n",
       "      <th>Order ID</th>\n",
       "      <th>Product</th>\n",
       "      <th>Quantity Ordered</th>\n",
       "      <th>Price Each</th>\n",
       "      <th>Order Date</th>\n",
       "      <th>Purchase Address</th>\n",
       "    </tr>\n",
       "  </thead>\n",
       "  <tbody>\n",
       "    <tr>\n",
       "      <th>13612</th>\n",
       "      <td>222901</td>\n",
       "      <td>AAA Batteries (4-pack)</td>\n",
       "      <td>1</td>\n",
       "      <td>2.99</td>\n",
       "      <td>06/11/19 04:00</td>\n",
       "      <td>891 South St, Atlanta, GA 30301</td>\n",
       "    </tr>\n",
       "    <tr>\n",
       "      <th>13613</th>\n",
       "      <td>222902</td>\n",
       "      <td>Lightning Charging Cable</td>\n",
       "      <td>1</td>\n",
       "      <td>14.95</td>\n",
       "      <td>06/10/19 17:43</td>\n",
       "      <td>847 Main St, Atlanta, GA 30301</td>\n",
       "    </tr>\n",
       "    <tr>\n",
       "      <th>13614</th>\n",
       "      <td>222903</td>\n",
       "      <td>iPhone</td>\n",
       "      <td>1</td>\n",
       "      <td>700</td>\n",
       "      <td>06/07/19 22:21</td>\n",
       "      <td>685 Hickory St, New York City, NY 10001</td>\n",
       "    </tr>\n",
       "    <tr>\n",
       "      <th>13615</th>\n",
       "      <td>222903</td>\n",
       "      <td>Lightning Charging Cable</td>\n",
       "      <td>1</td>\n",
       "      <td>14.95</td>\n",
       "      <td>06/07/19 22:21</td>\n",
       "      <td>685 Hickory St, New York City, NY 10001</td>\n",
       "    </tr>\n",
       "    <tr>\n",
       "      <th>13616</th>\n",
       "      <td>222904</td>\n",
       "      <td>Macbook Pro Laptop</td>\n",
       "      <td>1</td>\n",
       "      <td>1700</td>\n",
       "      <td>06/09/19 22:07</td>\n",
       "      <td>975 2nd St, Los Angeles, CA 90001</td>\n",
       "    </tr>\n",
       "    <tr>\n",
       "      <th>13617</th>\n",
       "      <td>222905</td>\n",
       "      <td>AAA Batteries (4-pack)</td>\n",
       "      <td>1</td>\n",
       "      <td>2.99</td>\n",
       "      <td>06/07/19 19:02</td>\n",
       "      <td>795 Pine St, Boston, MA 02215</td>\n",
       "    </tr>\n",
       "    <tr>\n",
       "      <th>13618</th>\n",
       "      <td>222906</td>\n",
       "      <td>27in FHD Monitor</td>\n",
       "      <td>1</td>\n",
       "      <td>149.99</td>\n",
       "      <td>06/01/19 19:29</td>\n",
       "      <td>495 North St, New York City, NY 10001</td>\n",
       "    </tr>\n",
       "    <tr>\n",
       "      <th>13619</th>\n",
       "      <td>222907</td>\n",
       "      <td>USB-C Charging Cable</td>\n",
       "      <td>1</td>\n",
       "      <td>11.95</td>\n",
       "      <td>06/22/19 18:57</td>\n",
       "      <td>319 Ridge St, San Francisco, CA 94016</td>\n",
       "    </tr>\n",
       "    <tr>\n",
       "      <th>13620</th>\n",
       "      <td>222908</td>\n",
       "      <td>USB-C Charging Cable</td>\n",
       "      <td>1</td>\n",
       "      <td>11.95</td>\n",
       "      <td>06/26/19 18:35</td>\n",
       "      <td>916 Main St, San Francisco, CA 94016</td>\n",
       "    </tr>\n",
       "    <tr>\n",
       "      <th>13621</th>\n",
       "      <td>222909</td>\n",
       "      <td>AAA Batteries (4-pack)</td>\n",
       "      <td>1</td>\n",
       "      <td>2.99</td>\n",
       "      <td>06/25/19 14:33</td>\n",
       "      <td>209 11th St, Atlanta, GA 30301</td>\n",
       "    </tr>\n",
       "  </tbody>\n",
       "</table>\n",
       "</div>"
      ],
      "text/plain": [
       "      Order ID                   Product Quantity Ordered Price Each  \\\n",
       "13612   222901    AAA Batteries (4-pack)                1       2.99   \n",
       "13613   222902  Lightning Charging Cable                1      14.95   \n",
       "13614   222903                    iPhone                1        700   \n",
       "13615   222903  Lightning Charging Cable                1      14.95   \n",
       "13616   222904        Macbook Pro Laptop                1       1700   \n",
       "13617   222905    AAA Batteries (4-pack)                1       2.99   \n",
       "13618   222906          27in FHD Monitor                1     149.99   \n",
       "13619   222907      USB-C Charging Cable                1      11.95   \n",
       "13620   222908      USB-C Charging Cable                1      11.95   \n",
       "13621   222909    AAA Batteries (4-pack)                1       2.99   \n",
       "\n",
       "           Order Date                         Purchase Address  \n",
       "13612  06/11/19 04:00          891 South St, Atlanta, GA 30301  \n",
       "13613  06/10/19 17:43           847 Main St, Atlanta, GA 30301  \n",
       "13614  06/07/19 22:21  685 Hickory St, New York City, NY 10001  \n",
       "13615  06/07/19 22:21  685 Hickory St, New York City, NY 10001  \n",
       "13616  06/09/19 22:07        975 2nd St, Los Angeles, CA 90001  \n",
       "13617  06/07/19 19:02            795 Pine St, Boston, MA 02215  \n",
       "13618  06/01/19 19:29    495 North St, New York City, NY 10001  \n",
       "13619  06/22/19 18:57    319 Ridge St, San Francisco, CA 94016  \n",
       "13620  06/26/19 18:35     916 Main St, San Francisco, CA 94016  \n",
       "13621  06/25/19 14:33           209 11th St, Atlanta, GA 30301  "
      ]
     },
     "execution_count": 8,
     "metadata": {},
     "output_type": "execute_result"
    }
   ],
   "source": [
    "data_base.tail(10)"
   ]
  },
  {
   "cell_type": "code",
   "execution_count": 9,
   "id": "f85b8a1c",
   "metadata": {},
   "outputs": [
    {
     "data": {
      "text/plain": [
       "Order ID            object\n",
       "Product             object\n",
       "Quantity Ordered    object\n",
       "Price Each          object\n",
       "Order Date          object\n",
       "Purchase Address    object\n",
       "dtype: object"
      ]
     },
     "execution_count": 9,
     "metadata": {},
     "output_type": "execute_result"
    }
   ],
   "source": [
    "data_base.dtypes"
   ]
  },
  {
   "cell_type": "code",
   "execution_count": 10,
   "id": "4d2ba149",
   "metadata": {},
   "outputs": [
    {
     "name": "stdout",
     "output_type": "stream",
     "text": [
      "<class 'pandas.core.frame.DataFrame'>\n",
      "Int64Index: 186850 entries, 0 to 13621\n",
      "Data columns (total 6 columns):\n",
      " #   Column            Non-Null Count   Dtype \n",
      "---  ------            --------------   ----- \n",
      " 0   Order ID          186305 non-null  object\n",
      " 1   Product           186305 non-null  object\n",
      " 2   Quantity Ordered  186305 non-null  object\n",
      " 3   Price Each        186305 non-null  object\n",
      " 4   Order Date        186305 non-null  object\n",
      " 5   Purchase Address  186305 non-null  object\n",
      "dtypes: object(6)\n",
      "memory usage: 10.0+ MB\n"
     ]
    }
   ],
   "source": [
    "data_base.info()"
   ]
  },
  {
   "cell_type": "code",
   "execution_count": 11,
   "id": "7a66a153",
   "metadata": {},
   "outputs": [],
   "source": [
    "# we observe thesame number of NaN or empty values on each column"
   ]
  },
  {
   "cell_type": "markdown",
   "id": "c2ddaf8d",
   "metadata": {},
   "source": [
    "# Checking for duplicated rows"
   ]
  },
  {
   "cell_type": "code",
   "execution_count": 12,
   "id": "c0a0abc3",
   "metadata": {},
   "outputs": [
    {
     "data": {
      "text/plain": [
       "0        False\n",
       "1        False\n",
       "2        False\n",
       "3        False\n",
       "4        False\n",
       "         ...  \n",
       "13617    False\n",
       "13618    False\n",
       "13619    False\n",
       "13620    False\n",
       "13621    False\n",
       "Length: 186850, dtype: bool"
      ]
     },
     "execution_count": 12,
     "metadata": {},
     "output_type": "execute_result"
    }
   ],
   "source": [
    "data_base.duplicated()"
   ]
  },
  {
   "cell_type": "code",
   "execution_count": 13,
   "id": "34deeeb9",
   "metadata": {},
   "outputs": [
    {
     "data": {
      "text/plain": [
       "1162"
      ]
     },
     "execution_count": 13,
     "metadata": {},
     "output_type": "execute_result"
    }
   ],
   "source": [
    "data_base.duplicated().sum()"
   ]
  },
  {
   "cell_type": "markdown",
   "id": "fb1e429f",
   "metadata": {},
   "source": [
    "# Deleting all duplicated rows"
   ]
  },
  {
   "cell_type": "code",
   "execution_count": 14,
   "id": "3fac4646",
   "metadata": {},
   "outputs": [
    {
     "data": {
      "text/plain": [
       "0"
      ]
     },
     "execution_count": 14,
     "metadata": {},
     "output_type": "execute_result"
    }
   ],
   "source": [
    "data_base.drop_duplicates(inplace = True)\n",
    "data_base.duplicated().sum()"
   ]
  },
  {
   "cell_type": "code",
   "execution_count": 15,
   "id": "88511312",
   "metadata": {},
   "outputs": [
    {
     "name": "stdout",
     "output_type": "stream",
     "text": [
      "<class 'pandas.core.frame.DataFrame'>\n",
      "Int64Index: 185688 entries, 0 to 13621\n",
      "Data columns (total 6 columns):\n",
      " #   Column            Non-Null Count   Dtype \n",
      "---  ------            --------------   ----- \n",
      " 0   Order ID          185687 non-null  object\n",
      " 1   Product           185687 non-null  object\n",
      " 2   Quantity Ordered  185687 non-null  object\n",
      " 3   Price Each        185687 non-null  object\n",
      " 4   Order Date        185687 non-null  object\n",
      " 5   Purchase Address  185687 non-null  object\n",
      "dtypes: object(6)\n",
      "memory usage: 9.9+ MB\n"
     ]
    }
   ],
   "source": [
    "data_base.info()"
   ]
  },
  {
   "cell_type": "code",
   "execution_count": 16,
   "id": "e05d2e3e",
   "metadata": {},
   "outputs": [],
   "source": [
    "#we observe that alot of the NaN values where due to the fact that alot of rows were duplicated."
   ]
  },
  {
   "cell_type": "markdown",
   "id": "df76d781",
   "metadata": {},
   "source": [
    "# Checking for NaN values"
   ]
  },
  {
   "cell_type": "code",
   "execution_count": 17,
   "id": "d644c400",
   "metadata": {},
   "outputs": [
    {
     "data": {
      "text/plain": [
       "Order ID            1\n",
       "Product             1\n",
       "Quantity Ordered    1\n",
       "Price Each          1\n",
       "Order Date          1\n",
       "Purchase Address    1\n",
       "dtype: int64"
      ]
     },
     "execution_count": 17,
     "metadata": {},
     "output_type": "execute_result"
    }
   ],
   "source": [
    "data_base.isna().sum()"
   ]
  },
  {
   "cell_type": "markdown",
   "id": "02fba80c",
   "metadata": {},
   "source": [
    "# Locating the position of each of these NaN values"
   ]
  },
  {
   "cell_type": "code",
   "execution_count": 18,
   "id": "46d3d079",
   "metadata": {},
   "outputs": [
    {
     "data": {
      "text/html": [
       "<div>\n",
       "<style scoped>\n",
       "    .dataframe tbody tr th:only-of-type {\n",
       "        vertical-align: middle;\n",
       "    }\n",
       "\n",
       "    .dataframe tbody tr th {\n",
       "        vertical-align: top;\n",
       "    }\n",
       "\n",
       "    .dataframe thead th {\n",
       "        text-align: right;\n",
       "    }\n",
       "</style>\n",
       "<table border=\"1\" class=\"dataframe\">\n",
       "  <thead>\n",
       "    <tr style=\"text-align: right;\">\n",
       "      <th></th>\n",
       "      <th>Order ID</th>\n",
       "      <th>Product</th>\n",
       "      <th>Quantity Ordered</th>\n",
       "      <th>Price Each</th>\n",
       "      <th>Order Date</th>\n",
       "      <th>Purchase Address</th>\n",
       "    </tr>\n",
       "  </thead>\n",
       "  <tbody>\n",
       "    <tr>\n",
       "      <th>0</th>\n",
       "      <td>False</td>\n",
       "      <td>False</td>\n",
       "      <td>False</td>\n",
       "      <td>False</td>\n",
       "      <td>False</td>\n",
       "      <td>False</td>\n",
       "    </tr>\n",
       "    <tr>\n",
       "      <th>1</th>\n",
       "      <td>False</td>\n",
       "      <td>False</td>\n",
       "      <td>False</td>\n",
       "      <td>False</td>\n",
       "      <td>False</td>\n",
       "      <td>False</td>\n",
       "    </tr>\n",
       "    <tr>\n",
       "      <th>2</th>\n",
       "      <td>False</td>\n",
       "      <td>False</td>\n",
       "      <td>False</td>\n",
       "      <td>False</td>\n",
       "      <td>False</td>\n",
       "      <td>False</td>\n",
       "    </tr>\n",
       "    <tr>\n",
       "      <th>3</th>\n",
       "      <td>False</td>\n",
       "      <td>False</td>\n",
       "      <td>False</td>\n",
       "      <td>False</td>\n",
       "      <td>False</td>\n",
       "      <td>False</td>\n",
       "    </tr>\n",
       "    <tr>\n",
       "      <th>4</th>\n",
       "      <td>False</td>\n",
       "      <td>False</td>\n",
       "      <td>False</td>\n",
       "      <td>False</td>\n",
       "      <td>False</td>\n",
       "      <td>False</td>\n",
       "    </tr>\n",
       "    <tr>\n",
       "      <th>...</th>\n",
       "      <td>...</td>\n",
       "      <td>...</td>\n",
       "      <td>...</td>\n",
       "      <td>...</td>\n",
       "      <td>...</td>\n",
       "      <td>...</td>\n",
       "    </tr>\n",
       "    <tr>\n",
       "      <th>13617</th>\n",
       "      <td>False</td>\n",
       "      <td>False</td>\n",
       "      <td>False</td>\n",
       "      <td>False</td>\n",
       "      <td>False</td>\n",
       "      <td>False</td>\n",
       "    </tr>\n",
       "    <tr>\n",
       "      <th>13618</th>\n",
       "      <td>False</td>\n",
       "      <td>False</td>\n",
       "      <td>False</td>\n",
       "      <td>False</td>\n",
       "      <td>False</td>\n",
       "      <td>False</td>\n",
       "    </tr>\n",
       "    <tr>\n",
       "      <th>13619</th>\n",
       "      <td>False</td>\n",
       "      <td>False</td>\n",
       "      <td>False</td>\n",
       "      <td>False</td>\n",
       "      <td>False</td>\n",
       "      <td>False</td>\n",
       "    </tr>\n",
       "    <tr>\n",
       "      <th>13620</th>\n",
       "      <td>False</td>\n",
       "      <td>False</td>\n",
       "      <td>False</td>\n",
       "      <td>False</td>\n",
       "      <td>False</td>\n",
       "      <td>False</td>\n",
       "    </tr>\n",
       "    <tr>\n",
       "      <th>13621</th>\n",
       "      <td>False</td>\n",
       "      <td>False</td>\n",
       "      <td>False</td>\n",
       "      <td>False</td>\n",
       "      <td>False</td>\n",
       "      <td>False</td>\n",
       "    </tr>\n",
       "  </tbody>\n",
       "</table>\n",
       "<p>185688 rows × 6 columns</p>\n",
       "</div>"
      ],
      "text/plain": [
       "       Order ID  Product  Quantity Ordered  Price Each  Order Date  \\\n",
       "0         False    False             False       False       False   \n",
       "1         False    False             False       False       False   \n",
       "2         False    False             False       False       False   \n",
       "3         False    False             False       False       False   \n",
       "4         False    False             False       False       False   \n",
       "...         ...      ...               ...         ...         ...   \n",
       "13617     False    False             False       False       False   \n",
       "13618     False    False             False       False       False   \n",
       "13619     False    False             False       False       False   \n",
       "13620     False    False             False       False       False   \n",
       "13621     False    False             False       False       False   \n",
       "\n",
       "       Purchase Address  \n",
       "0                 False  \n",
       "1                 False  \n",
       "2                 False  \n",
       "3                 False  \n",
       "4                 False  \n",
       "...                 ...  \n",
       "13617             False  \n",
       "13618             False  \n",
       "13619             False  \n",
       "13620             False  \n",
       "13621             False  \n",
       "\n",
       "[185688 rows x 6 columns]"
      ]
     },
     "execution_count": 18,
     "metadata": {},
     "output_type": "execute_result"
    }
   ],
   "source": [
    "data_base.isna()"
   ]
  },
  {
   "cell_type": "code",
   "execution_count": 19,
   "id": "f767b9c2",
   "metadata": {},
   "outputs": [
    {
     "data": {
      "text/html": [
       "<div>\n",
       "<style scoped>\n",
       "    .dataframe tbody tr th:only-of-type {\n",
       "        vertical-align: middle;\n",
       "    }\n",
       "\n",
       "    .dataframe tbody tr th {\n",
       "        vertical-align: top;\n",
       "    }\n",
       "\n",
       "    .dataframe thead th {\n",
       "        text-align: right;\n",
       "    }\n",
       "</style>\n",
       "<table border=\"1\" class=\"dataframe\">\n",
       "  <thead>\n",
       "    <tr style=\"text-align: right;\">\n",
       "      <th></th>\n",
       "      <th>Order ID</th>\n",
       "      <th>Product</th>\n",
       "      <th>Quantity Ordered</th>\n",
       "      <th>Price Each</th>\n",
       "      <th>Order Date</th>\n",
       "      <th>Purchase Address</th>\n",
       "    </tr>\n",
       "  </thead>\n",
       "  <tbody>\n",
       "    <tr>\n",
       "      <th>264</th>\n",
       "      <td>NaN</td>\n",
       "      <td>NaN</td>\n",
       "      <td>NaN</td>\n",
       "      <td>NaN</td>\n",
       "      <td>NaN</td>\n",
       "      <td>NaN</td>\n",
       "    </tr>\n",
       "  </tbody>\n",
       "</table>\n",
       "</div>"
      ],
      "text/plain": [
       "    Order ID Product Quantity Ordered Price Each Order Date Purchase Address\n",
       "264      NaN     NaN              NaN        NaN        NaN              NaN"
      ]
     },
     "execution_count": 19,
     "metadata": {},
     "output_type": "execute_result"
    }
   ],
   "source": [
    "data_base.loc[data_base.isna().any(axis=1)]"
   ]
  },
  {
   "cell_type": "markdown",
   "id": "5552b1f5",
   "metadata": {},
   "source": [
    "# Deleting all NaN values "
   ]
  },
  {
   "cell_type": "code",
   "execution_count": 20,
   "id": "4223e09e",
   "metadata": {},
   "outputs": [
    {
     "data": {
      "text/plain": [
       "Order ID            0\n",
       "Product             0\n",
       "Quantity Ordered    0\n",
       "Price Each          0\n",
       "Order Date          0\n",
       "Purchase Address    0\n",
       "dtype: int64"
      ]
     },
     "execution_count": 20,
     "metadata": {},
     "output_type": "execute_result"
    }
   ],
   "source": [
    "data_base.dropna(inplace = True)\n",
    "data_base.isna().sum()"
   ]
  },
  {
   "cell_type": "code",
   "execution_count": 21,
   "id": "db06923c",
   "metadata": {},
   "outputs": [
    {
     "name": "stdout",
     "output_type": "stream",
     "text": [
      "<class 'pandas.core.frame.DataFrame'>\n",
      "Int64Index: 185687 entries, 0 to 13621\n",
      "Data columns (total 6 columns):\n",
      " #   Column            Non-Null Count   Dtype \n",
      "---  ------            --------------   ----- \n",
      " 0   Order ID          185687 non-null  object\n",
      " 1   Product           185687 non-null  object\n",
      " 2   Quantity Ordered  185687 non-null  object\n",
      " 3   Price Each        185687 non-null  object\n",
      " 4   Order Date        185687 non-null  object\n",
      " 5   Purchase Address  185687 non-null  object\n",
      "dtypes: object(6)\n",
      "memory usage: 9.9+ MB\n"
     ]
    }
   ],
   "source": [
    "data_base.info()"
   ]
  },
  {
   "cell_type": "markdown",
   "id": "c5580e6b",
   "metadata": {},
   "source": [
    "# Now that we are done with the primary Cleaning of our database. We are going to create a new csv file that contains this new database which also includes the concatenation of all our datasets."
   ]
  },
  {
   "cell_type": "code",
   "execution_count": 22,
   "id": "3812edf8",
   "metadata": {},
   "outputs": [],
   "source": [
    "path1 = r'/Users/cynthiaabi/Desktop/Data_Science/dataScience_project_1'\n",
    "\n",
    "data_base.to_csv(path1 + '/joinSales_Data.csv', index = False)\n"
   ]
  },
  {
   "cell_type": "markdown",
   "id": "9ed2bbb1",
   "metadata": {},
   "source": [
    "# Data from the month of january "
   ]
  },
  {
   "cell_type": "code",
   "execution_count": 23,
   "id": "8168a92c",
   "metadata": {},
   "outputs": [
    {
     "data": {
      "text/html": [
       "<div>\n",
       "<style scoped>\n",
       "    .dataframe tbody tr th:only-of-type {\n",
       "        vertical-align: middle;\n",
       "    }\n",
       "\n",
       "    .dataframe tbody tr th {\n",
       "        vertical-align: top;\n",
       "    }\n",
       "\n",
       "    .dataframe thead th {\n",
       "        text-align: right;\n",
       "    }\n",
       "</style>\n",
       "<table border=\"1\" class=\"dataframe\">\n",
       "  <thead>\n",
       "    <tr style=\"text-align: right;\">\n",
       "      <th></th>\n",
       "      <th>Order ID</th>\n",
       "      <th>Product</th>\n",
       "      <th>Quantity Ordered</th>\n",
       "      <th>Price Each</th>\n",
       "      <th>Order Date</th>\n",
       "      <th>Purchase Address</th>\n",
       "    </tr>\n",
       "  </thead>\n",
       "  <tbody>\n",
       "    <tr>\n",
       "      <th>0</th>\n",
       "      <td>141234</td>\n",
       "      <td>iPhone</td>\n",
       "      <td>1</td>\n",
       "      <td>700</td>\n",
       "      <td>01/22/19 21:25</td>\n",
       "      <td>944 Walnut St, Boston, MA 02215</td>\n",
       "    </tr>\n",
       "    <tr>\n",
       "      <th>1</th>\n",
       "      <td>141235</td>\n",
       "      <td>Lightning Charging Cable</td>\n",
       "      <td>1</td>\n",
       "      <td>14.95</td>\n",
       "      <td>01/28/19 14:15</td>\n",
       "      <td>185 Maple St, Portland, OR 97035</td>\n",
       "    </tr>\n",
       "    <tr>\n",
       "      <th>2</th>\n",
       "      <td>141236</td>\n",
       "      <td>Wired Headphones</td>\n",
       "      <td>2</td>\n",
       "      <td>11.99</td>\n",
       "      <td>01/17/19 13:33</td>\n",
       "      <td>538 Adams St, San Francisco, CA 94016</td>\n",
       "    </tr>\n",
       "    <tr>\n",
       "      <th>3</th>\n",
       "      <td>141237</td>\n",
       "      <td>27in FHD Monitor</td>\n",
       "      <td>1</td>\n",
       "      <td>149.99</td>\n",
       "      <td>01/05/19 20:33</td>\n",
       "      <td>738 10th St, Los Angeles, CA 90001</td>\n",
       "    </tr>\n",
       "    <tr>\n",
       "      <th>4</th>\n",
       "      <td>141238</td>\n",
       "      <td>Wired Headphones</td>\n",
       "      <td>1</td>\n",
       "      <td>11.99</td>\n",
       "      <td>01/25/19 11:59</td>\n",
       "      <td>387 10th St, Austin, TX 73301</td>\n",
       "    </tr>\n",
       "    <tr>\n",
       "      <th>...</th>\n",
       "      <td>...</td>\n",
       "      <td>...</td>\n",
       "      <td>...</td>\n",
       "      <td>...</td>\n",
       "      <td>...</td>\n",
       "      <td>...</td>\n",
       "    </tr>\n",
       "    <tr>\n",
       "      <th>9718</th>\n",
       "      <td>150497</td>\n",
       "      <td>20in Monitor</td>\n",
       "      <td>1</td>\n",
       "      <td>109.99</td>\n",
       "      <td>01/26/19 19:09</td>\n",
       "      <td>95 8th St, Dallas, TX 75001</td>\n",
       "    </tr>\n",
       "    <tr>\n",
       "      <th>9719</th>\n",
       "      <td>150498</td>\n",
       "      <td>27in FHD Monitor</td>\n",
       "      <td>1</td>\n",
       "      <td>149.99</td>\n",
       "      <td>01/10/19 22:58</td>\n",
       "      <td>403 7th St, San Francisco, CA 94016</td>\n",
       "    </tr>\n",
       "    <tr>\n",
       "      <th>9720</th>\n",
       "      <td>150499</td>\n",
       "      <td>ThinkPad Laptop</td>\n",
       "      <td>1</td>\n",
       "      <td>999.99</td>\n",
       "      <td>01/21/19 14:31</td>\n",
       "      <td>214 Main St, Portland, OR 97035</td>\n",
       "    </tr>\n",
       "    <tr>\n",
       "      <th>9721</th>\n",
       "      <td>150500</td>\n",
       "      <td>AAA Batteries (4-pack)</td>\n",
       "      <td>2</td>\n",
       "      <td>2.99</td>\n",
       "      <td>01/15/19 14:21</td>\n",
       "      <td>810 2nd St, Los Angeles, CA 90001</td>\n",
       "    </tr>\n",
       "    <tr>\n",
       "      <th>9722</th>\n",
       "      <td>150501</td>\n",
       "      <td>Google Phone</td>\n",
       "      <td>1</td>\n",
       "      <td>600</td>\n",
       "      <td>01/13/19 16:43</td>\n",
       "      <td>428 Cedar St, Boston, MA 02215</td>\n",
       "    </tr>\n",
       "  </tbody>\n",
       "</table>\n",
       "<p>9723 rows × 6 columns</p>\n",
       "</div>"
      ],
      "text/plain": [
       "     Order ID                   Product Quantity Ordered Price Each  \\\n",
       "0      141234                    iPhone                1        700   \n",
       "1      141235  Lightning Charging Cable                1      14.95   \n",
       "2      141236          Wired Headphones                2      11.99   \n",
       "3      141237          27in FHD Monitor                1     149.99   \n",
       "4      141238          Wired Headphones                1      11.99   \n",
       "...       ...                       ...              ...        ...   \n",
       "9718   150497              20in Monitor                1     109.99   \n",
       "9719   150498          27in FHD Monitor                1     149.99   \n",
       "9720   150499           ThinkPad Laptop                1     999.99   \n",
       "9721   150500    AAA Batteries (4-pack)                2       2.99   \n",
       "9722   150501              Google Phone                1        600   \n",
       "\n",
       "          Order Date                       Purchase Address  \n",
       "0     01/22/19 21:25        944 Walnut St, Boston, MA 02215  \n",
       "1     01/28/19 14:15       185 Maple St, Portland, OR 97035  \n",
       "2     01/17/19 13:33  538 Adams St, San Francisco, CA 94016  \n",
       "3     01/05/19 20:33     738 10th St, Los Angeles, CA 90001  \n",
       "4     01/25/19 11:59          387 10th St, Austin, TX 73301  \n",
       "...              ...                                    ...  \n",
       "9718  01/26/19 19:09            95 8th St, Dallas, TX 75001  \n",
       "9719  01/10/19 22:58    403 7th St, San Francisco, CA 94016  \n",
       "9720  01/21/19 14:31        214 Main St, Portland, OR 97035  \n",
       "9721  01/15/19 14:21      810 2nd St, Los Angeles, CA 90001  \n",
       "9722  01/13/19 16:43         428 Cedar St, Boston, MA 02215  \n",
       "\n",
       "[9723 rows x 6 columns]"
      ]
     },
     "execution_count": 23,
     "metadata": {},
     "output_type": "execute_result"
    }
   ],
   "source": [
    "path = r'/Users/cynthiaabi/Desktop/Data_Science/dataScience_project_1/Sales_Data'\n",
    "\n",
    "data_january = pd.read_csv(path+'/'+'Sales_January_2019.csv')\n",
    "\n",
    "data_january"
   ]
  },
  {
   "cell_type": "markdown",
   "id": "883d0c22",
   "metadata": {},
   "source": [
    "# Regenerating our unclean Data "
   ]
  },
  {
   "cell_type": "code",
   "execution_count": 24,
   "id": "ee6381f9",
   "metadata": {},
   "outputs": [
    {
     "data": {
      "text/html": [
       "<div>\n",
       "<style scoped>\n",
       "    .dataframe tbody tr th:only-of-type {\n",
       "        vertical-align: middle;\n",
       "    }\n",
       "\n",
       "    .dataframe tbody tr th {\n",
       "        vertical-align: top;\n",
       "    }\n",
       "\n",
       "    .dataframe thead th {\n",
       "        text-align: right;\n",
       "    }\n",
       "</style>\n",
       "<table border=\"1\" class=\"dataframe\">\n",
       "  <thead>\n",
       "    <tr style=\"text-align: right;\">\n",
       "      <th></th>\n",
       "      <th>Order ID</th>\n",
       "      <th>Product</th>\n",
       "      <th>Quantity Ordered</th>\n",
       "      <th>Price Each</th>\n",
       "      <th>Order Date</th>\n",
       "      <th>Purchase Address</th>\n",
       "    </tr>\n",
       "  </thead>\n",
       "  <tbody>\n",
       "    <tr>\n",
       "      <th>0</th>\n",
       "      <td>295665</td>\n",
       "      <td>Macbook Pro Laptop</td>\n",
       "      <td>1</td>\n",
       "      <td>1700</td>\n",
       "      <td>12/30/19 00:01</td>\n",
       "      <td>136 Church St, New York City, NY 10001</td>\n",
       "    </tr>\n",
       "    <tr>\n",
       "      <th>1</th>\n",
       "      <td>295666</td>\n",
       "      <td>LG Washing Machine</td>\n",
       "      <td>1</td>\n",
       "      <td>600.0</td>\n",
       "      <td>12/29/19 07:03</td>\n",
       "      <td>562 2nd St, New York City, NY 10001</td>\n",
       "    </tr>\n",
       "    <tr>\n",
       "      <th>2</th>\n",
       "      <td>295667</td>\n",
       "      <td>USB-C Charging Cable</td>\n",
       "      <td>1</td>\n",
       "      <td>11.95</td>\n",
       "      <td>12/12/19 18:21</td>\n",
       "      <td>277 Main St, New York City, NY 10001</td>\n",
       "    </tr>\n",
       "    <tr>\n",
       "      <th>3</th>\n",
       "      <td>295668</td>\n",
       "      <td>27in FHD Monitor</td>\n",
       "      <td>1</td>\n",
       "      <td>149.99</td>\n",
       "      <td>12/22/19 15:13</td>\n",
       "      <td>410 6th St, San Francisco, CA 94016</td>\n",
       "    </tr>\n",
       "    <tr>\n",
       "      <th>4</th>\n",
       "      <td>295669</td>\n",
       "      <td>USB-C Charging Cable</td>\n",
       "      <td>1</td>\n",
       "      <td>11.95</td>\n",
       "      <td>12/18/19 12:38</td>\n",
       "      <td>43 Hill St, Atlanta, GA 30301</td>\n",
       "    </tr>\n",
       "    <tr>\n",
       "      <th>...</th>\n",
       "      <td>...</td>\n",
       "      <td>...</td>\n",
       "      <td>...</td>\n",
       "      <td>...</td>\n",
       "      <td>...</td>\n",
       "      <td>...</td>\n",
       "    </tr>\n",
       "    <tr>\n",
       "      <th>13617</th>\n",
       "      <td>222905</td>\n",
       "      <td>AAA Batteries (4-pack)</td>\n",
       "      <td>1</td>\n",
       "      <td>2.99</td>\n",
       "      <td>06/07/19 19:02</td>\n",
       "      <td>795 Pine St, Boston, MA 02215</td>\n",
       "    </tr>\n",
       "    <tr>\n",
       "      <th>13618</th>\n",
       "      <td>222906</td>\n",
       "      <td>27in FHD Monitor</td>\n",
       "      <td>1</td>\n",
       "      <td>149.99</td>\n",
       "      <td>06/01/19 19:29</td>\n",
       "      <td>495 North St, New York City, NY 10001</td>\n",
       "    </tr>\n",
       "    <tr>\n",
       "      <th>13619</th>\n",
       "      <td>222907</td>\n",
       "      <td>USB-C Charging Cable</td>\n",
       "      <td>1</td>\n",
       "      <td>11.95</td>\n",
       "      <td>06/22/19 18:57</td>\n",
       "      <td>319 Ridge St, San Francisco, CA 94016</td>\n",
       "    </tr>\n",
       "    <tr>\n",
       "      <th>13620</th>\n",
       "      <td>222908</td>\n",
       "      <td>USB-C Charging Cable</td>\n",
       "      <td>1</td>\n",
       "      <td>11.95</td>\n",
       "      <td>06/26/19 18:35</td>\n",
       "      <td>916 Main St, San Francisco, CA 94016</td>\n",
       "    </tr>\n",
       "    <tr>\n",
       "      <th>13621</th>\n",
       "      <td>222909</td>\n",
       "      <td>AAA Batteries (4-pack)</td>\n",
       "      <td>1</td>\n",
       "      <td>2.99</td>\n",
       "      <td>06/25/19 14:33</td>\n",
       "      <td>209 11th St, Atlanta, GA 30301</td>\n",
       "    </tr>\n",
       "  </tbody>\n",
       "</table>\n",
       "<p>186850 rows × 6 columns</p>\n",
       "</div>"
      ],
      "text/plain": [
       "      Order ID                 Product Quantity Ordered Price Each  \\\n",
       "0       295665      Macbook Pro Laptop                1       1700   \n",
       "1       295666      LG Washing Machine                1      600.0   \n",
       "2       295667    USB-C Charging Cable                1      11.95   \n",
       "3       295668        27in FHD Monitor                1     149.99   \n",
       "4       295669    USB-C Charging Cable                1      11.95   \n",
       "...        ...                     ...              ...        ...   \n",
       "13617   222905  AAA Batteries (4-pack)                1       2.99   \n",
       "13618   222906        27in FHD Monitor                1     149.99   \n",
       "13619   222907    USB-C Charging Cable                1      11.95   \n",
       "13620   222908    USB-C Charging Cable                1      11.95   \n",
       "13621   222909  AAA Batteries (4-pack)                1       2.99   \n",
       "\n",
       "           Order Date                        Purchase Address  \n",
       "0      12/30/19 00:01  136 Church St, New York City, NY 10001  \n",
       "1      12/29/19 07:03     562 2nd St, New York City, NY 10001  \n",
       "2      12/12/19 18:21    277 Main St, New York City, NY 10001  \n",
       "3      12/22/19 15:13     410 6th St, San Francisco, CA 94016  \n",
       "4      12/18/19 12:38           43 Hill St, Atlanta, GA 30301  \n",
       "...               ...                                     ...  \n",
       "13617  06/07/19 19:02           795 Pine St, Boston, MA 02215  \n",
       "13618  06/01/19 19:29   495 North St, New York City, NY 10001  \n",
       "13619  06/22/19 18:57   319 Ridge St, San Francisco, CA 94016  \n",
       "13620  06/26/19 18:35    916 Main St, San Francisco, CA 94016  \n",
       "13621  06/25/19 14:33          209 11th St, Atlanta, GA 30301  \n",
       "\n",
       "[186850 rows x 6 columns]"
      ]
     },
     "execution_count": 24,
     "metadata": {},
     "output_type": "execute_result"
    }
   ],
   "source": [
    "path = r'/Users/cynthiaabi/Desktop/Data_Science/dataScience_project_1/Sales_Data'\n",
    "data_base1 = pd.DataFrame()\n",
    "for file in folder :\n",
    "    current_data = pd.read_csv(path + '/' + file)\n",
    "    data_base1 = pd.concat([data_base1, current_data])\n",
    "data_base1"
   ]
  },
  {
   "cell_type": "markdown",
   "id": "6501d2e9",
   "metadata": {},
   "source": [
    "# Zero values in each column"
   ]
  },
  {
   "cell_type": "code",
   "execution_count": 25,
   "id": "9d2b0d18",
   "metadata": {},
   "outputs": [
    {
     "data": {
      "text/plain": [
       "Order ID            545\n",
       "Product             545\n",
       "Quantity Ordered    545\n",
       "Price Each          545\n",
       "Order Date          545\n",
       "Purchase Address    545\n",
       "dtype: int64"
      ]
     },
     "execution_count": 25,
     "metadata": {},
     "output_type": "execute_result"
    }
   ],
   "source": [
    "data_base1.isnull().sum()"
   ]
  },
  {
   "cell_type": "markdown",
   "id": "ef551de2",
   "metadata": {},
   "source": [
    "# Deleting NaN values"
   ]
  },
  {
   "cell_type": "code",
   "execution_count": 26,
   "id": "ea2e7c93",
   "metadata": {},
   "outputs": [],
   "source": [
    "data_base1 = data_base1.dropna(how = \"all\")"
   ]
  },
  {
   "cell_type": "code",
   "execution_count": 27,
   "id": "ba4590f8",
   "metadata": {},
   "outputs": [
    {
     "name": "stdout",
     "output_type": "stream",
     "text": [
      "<class 'pandas.core.frame.DataFrame'>\n",
      "Int64Index: 186305 entries, 0 to 13621\n",
      "Data columns (total 6 columns):\n",
      " #   Column            Non-Null Count   Dtype \n",
      "---  ------            --------------   ----- \n",
      " 0   Order ID          186305 non-null  object\n",
      " 1   Product           186305 non-null  object\n",
      " 2   Quantity Ordered  186305 non-null  object\n",
      " 3   Price Each        186305 non-null  object\n",
      " 4   Order Date        186305 non-null  object\n",
      " 5   Purchase Address  186305 non-null  object\n",
      "dtypes: object(6)\n",
      "memory usage: 9.9+ MB\n"
     ]
    }
   ],
   "source": [
    "data_base1.info()"
   ]
  },
  {
   "cell_type": "code",
   "execution_count": 28,
   "id": "077066b8",
   "metadata": {},
   "outputs": [
    {
     "data": {
      "text/html": [
       "<div>\n",
       "<style scoped>\n",
       "    .dataframe tbody tr th:only-of-type {\n",
       "        vertical-align: middle;\n",
       "    }\n",
       "\n",
       "    .dataframe tbody tr th {\n",
       "        vertical-align: top;\n",
       "    }\n",
       "\n",
       "    .dataframe thead th {\n",
       "        text-align: right;\n",
       "    }\n",
       "</style>\n",
       "<table border=\"1\" class=\"dataframe\">\n",
       "  <thead>\n",
       "    <tr style=\"text-align: right;\">\n",
       "      <th></th>\n",
       "      <th>Order ID</th>\n",
       "      <th>Product</th>\n",
       "      <th>Quantity Ordered</th>\n",
       "      <th>Price Each</th>\n",
       "      <th>Order Date</th>\n",
       "      <th>Purchase Address</th>\n",
       "    </tr>\n",
       "  </thead>\n",
       "  <tbody>\n",
       "    <tr>\n",
       "      <th>count</th>\n",
       "      <td>186305</td>\n",
       "      <td>186305</td>\n",
       "      <td>186305</td>\n",
       "      <td>186305</td>\n",
       "      <td>186305</td>\n",
       "      <td>186305</td>\n",
       "    </tr>\n",
       "    <tr>\n",
       "      <th>unique</th>\n",
       "      <td>178438</td>\n",
       "      <td>20</td>\n",
       "      <td>10</td>\n",
       "      <td>24</td>\n",
       "      <td>142396</td>\n",
       "      <td>140788</td>\n",
       "    </tr>\n",
       "    <tr>\n",
       "      <th>top</th>\n",
       "      <td>Order ID</td>\n",
       "      <td>USB-C Charging Cable</td>\n",
       "      <td>1</td>\n",
       "      <td>11.95</td>\n",
       "      <td>Order Date</td>\n",
       "      <td>Purchase Address</td>\n",
       "    </tr>\n",
       "    <tr>\n",
       "      <th>freq</th>\n",
       "      <td>355</td>\n",
       "      <td>21903</td>\n",
       "      <td>168552</td>\n",
       "      <td>21903</td>\n",
       "      <td>355</td>\n",
       "      <td>355</td>\n",
       "    </tr>\n",
       "  </tbody>\n",
       "</table>\n",
       "</div>"
      ],
      "text/plain": [
       "        Order ID               Product Quantity Ordered Price Each  \\\n",
       "count     186305                186305           186305     186305   \n",
       "unique    178438                    20               10         24   \n",
       "top     Order ID  USB-C Charging Cable                1      11.95   \n",
       "freq         355                 21903           168552      21903   \n",
       "\n",
       "        Order Date  Purchase Address  \n",
       "count       186305            186305  \n",
       "unique      142396            140788  \n",
       "top     Order Date  Purchase Address  \n",
       "freq           355               355  "
      ]
     },
     "execution_count": 28,
     "metadata": {},
     "output_type": "execute_result"
    }
   ],
   "source": [
    "data_base1.describe()"
   ]
  },
  {
   "cell_type": "markdown",
   "id": "d8c38c9c",
   "metadata": {},
   "source": [
    "# Creating a new column  Month which represents the month during which each sale was made"
   ]
  },
  {
   "cell_type": "code",
   "execution_count": 29,
   "id": "8113eea8",
   "metadata": {
    "scrolled": true
   },
   "outputs": [
    {
     "name": "stderr",
     "output_type": "stream",
     "text": [
      "/var/folders/ms/gtqm6sgn3h9gj21_t32_d2940000gn/T/ipykernel_44021/2512158415.py:3: SettingWithCopyWarning: \n",
      "A value is trying to be set on a copy of a slice from a DataFrame.\n",
      "Try using .loc[row_indexer,col_indexer] = value instead\n",
      "\n",
      "See the caveats in the documentation: https://pandas.pydata.org/pandas-docs/stable/user_guide/indexing.html#returning-a-view-versus-a-copy\n",
      "  data_base1['Month'] = data_base1['Order Date'].apply(Month)\n"
     ]
    }
   ],
   "source": [
    "def Month(x) :\n",
    "    return x.split('/')[0]\n",
    "data_base1['Month'] = data_base1['Order Date'].apply(Month)\n"
   ]
  },
  {
   "cell_type": "code",
   "execution_count": 30,
   "id": "af6f9b4f",
   "metadata": {
    "scrolled": false
   },
   "outputs": [
    {
     "data": {
      "text/html": [
       "<div>\n",
       "<style scoped>\n",
       "    .dataframe tbody tr th:only-of-type {\n",
       "        vertical-align: middle;\n",
       "    }\n",
       "\n",
       "    .dataframe tbody tr th {\n",
       "        vertical-align: top;\n",
       "    }\n",
       "\n",
       "    .dataframe thead th {\n",
       "        text-align: right;\n",
       "    }\n",
       "</style>\n",
       "<table border=\"1\" class=\"dataframe\">\n",
       "  <thead>\n",
       "    <tr style=\"text-align: right;\">\n",
       "      <th></th>\n",
       "      <th>Order ID</th>\n",
       "      <th>Product</th>\n",
       "      <th>Quantity Ordered</th>\n",
       "      <th>Price Each</th>\n",
       "      <th>Order Date</th>\n",
       "      <th>Purchase Address</th>\n",
       "      <th>Month</th>\n",
       "    </tr>\n",
       "  </thead>\n",
       "  <tbody>\n",
       "    <tr>\n",
       "      <th>0</th>\n",
       "      <td>295665</td>\n",
       "      <td>Macbook Pro Laptop</td>\n",
       "      <td>1</td>\n",
       "      <td>1700</td>\n",
       "      <td>12/30/19 00:01</td>\n",
       "      <td>136 Church St, New York City, NY 10001</td>\n",
       "      <td>12</td>\n",
       "    </tr>\n",
       "    <tr>\n",
       "      <th>1</th>\n",
       "      <td>295666</td>\n",
       "      <td>LG Washing Machine</td>\n",
       "      <td>1</td>\n",
       "      <td>600.0</td>\n",
       "      <td>12/29/19 07:03</td>\n",
       "      <td>562 2nd St, New York City, NY 10001</td>\n",
       "      <td>12</td>\n",
       "    </tr>\n",
       "    <tr>\n",
       "      <th>2</th>\n",
       "      <td>295667</td>\n",
       "      <td>USB-C Charging Cable</td>\n",
       "      <td>1</td>\n",
       "      <td>11.95</td>\n",
       "      <td>12/12/19 18:21</td>\n",
       "      <td>277 Main St, New York City, NY 10001</td>\n",
       "      <td>12</td>\n",
       "    </tr>\n",
       "    <tr>\n",
       "      <th>3</th>\n",
       "      <td>295668</td>\n",
       "      <td>27in FHD Monitor</td>\n",
       "      <td>1</td>\n",
       "      <td>149.99</td>\n",
       "      <td>12/22/19 15:13</td>\n",
       "      <td>410 6th St, San Francisco, CA 94016</td>\n",
       "      <td>12</td>\n",
       "    </tr>\n",
       "    <tr>\n",
       "      <th>4</th>\n",
       "      <td>295669</td>\n",
       "      <td>USB-C Charging Cable</td>\n",
       "      <td>1</td>\n",
       "      <td>11.95</td>\n",
       "      <td>12/18/19 12:38</td>\n",
       "      <td>43 Hill St, Atlanta, GA 30301</td>\n",
       "      <td>12</td>\n",
       "    </tr>\n",
       "    <tr>\n",
       "      <th>...</th>\n",
       "      <td>...</td>\n",
       "      <td>...</td>\n",
       "      <td>...</td>\n",
       "      <td>...</td>\n",
       "      <td>...</td>\n",
       "      <td>...</td>\n",
       "      <td>...</td>\n",
       "    </tr>\n",
       "    <tr>\n",
       "      <th>13617</th>\n",
       "      <td>222905</td>\n",
       "      <td>AAA Batteries (4-pack)</td>\n",
       "      <td>1</td>\n",
       "      <td>2.99</td>\n",
       "      <td>06/07/19 19:02</td>\n",
       "      <td>795 Pine St, Boston, MA 02215</td>\n",
       "      <td>06</td>\n",
       "    </tr>\n",
       "    <tr>\n",
       "      <th>13618</th>\n",
       "      <td>222906</td>\n",
       "      <td>27in FHD Monitor</td>\n",
       "      <td>1</td>\n",
       "      <td>149.99</td>\n",
       "      <td>06/01/19 19:29</td>\n",
       "      <td>495 North St, New York City, NY 10001</td>\n",
       "      <td>06</td>\n",
       "    </tr>\n",
       "    <tr>\n",
       "      <th>13619</th>\n",
       "      <td>222907</td>\n",
       "      <td>USB-C Charging Cable</td>\n",
       "      <td>1</td>\n",
       "      <td>11.95</td>\n",
       "      <td>06/22/19 18:57</td>\n",
       "      <td>319 Ridge St, San Francisco, CA 94016</td>\n",
       "      <td>06</td>\n",
       "    </tr>\n",
       "    <tr>\n",
       "      <th>13620</th>\n",
       "      <td>222908</td>\n",
       "      <td>USB-C Charging Cable</td>\n",
       "      <td>1</td>\n",
       "      <td>11.95</td>\n",
       "      <td>06/26/19 18:35</td>\n",
       "      <td>916 Main St, San Francisco, CA 94016</td>\n",
       "      <td>06</td>\n",
       "    </tr>\n",
       "    <tr>\n",
       "      <th>13621</th>\n",
       "      <td>222909</td>\n",
       "      <td>AAA Batteries (4-pack)</td>\n",
       "      <td>1</td>\n",
       "      <td>2.99</td>\n",
       "      <td>06/25/19 14:33</td>\n",
       "      <td>209 11th St, Atlanta, GA 30301</td>\n",
       "      <td>06</td>\n",
       "    </tr>\n",
       "  </tbody>\n",
       "</table>\n",
       "<p>186305 rows × 7 columns</p>\n",
       "</div>"
      ],
      "text/plain": [
       "      Order ID                 Product Quantity Ordered Price Each  \\\n",
       "0       295665      Macbook Pro Laptop                1       1700   \n",
       "1       295666      LG Washing Machine                1      600.0   \n",
       "2       295667    USB-C Charging Cable                1      11.95   \n",
       "3       295668        27in FHD Monitor                1     149.99   \n",
       "4       295669    USB-C Charging Cable                1      11.95   \n",
       "...        ...                     ...              ...        ...   \n",
       "13617   222905  AAA Batteries (4-pack)                1       2.99   \n",
       "13618   222906        27in FHD Monitor                1     149.99   \n",
       "13619   222907    USB-C Charging Cable                1      11.95   \n",
       "13620   222908    USB-C Charging Cable                1      11.95   \n",
       "13621   222909  AAA Batteries (4-pack)                1       2.99   \n",
       "\n",
       "           Order Date                        Purchase Address Month  \n",
       "0      12/30/19 00:01  136 Church St, New York City, NY 10001    12  \n",
       "1      12/29/19 07:03     562 2nd St, New York City, NY 10001    12  \n",
       "2      12/12/19 18:21    277 Main St, New York City, NY 10001    12  \n",
       "3      12/22/19 15:13     410 6th St, San Francisco, CA 94016    12  \n",
       "4      12/18/19 12:38           43 Hill St, Atlanta, GA 30301    12  \n",
       "...               ...                                     ...   ...  \n",
       "13617  06/07/19 19:02           795 Pine St, Boston, MA 02215    06  \n",
       "13618  06/01/19 19:29   495 North St, New York City, NY 10001    06  \n",
       "13619  06/22/19 18:57   319 Ridge St, San Francisco, CA 94016    06  \n",
       "13620  06/26/19 18:35    916 Main St, San Francisco, CA 94016    06  \n",
       "13621  06/25/19 14:33          209 11th St, Atlanta, GA 30301    06  \n",
       "\n",
       "[186305 rows x 7 columns]"
      ]
     },
     "execution_count": 30,
     "metadata": {},
     "output_type": "execute_result"
    }
   ],
   "source": [
    "data_base1"
   ]
  },
  {
   "cell_type": "code",
   "execution_count": 31,
   "id": "90a90898",
   "metadata": {},
   "outputs": [
    {
     "data": {
      "text/plain": [
       "array(['12', '01', '04', '05', '02', '03', '08', '09', '06', '11', '10',\n",
       "       '07'], dtype=object)"
      ]
     },
     "execution_count": 31,
     "metadata": {},
     "output_type": "execute_result"
    }
   ],
   "source": [
    "data_base1= data_base1[data_base1['Month']!='Order Date']\n",
    "\n",
    "data_base1['Month'].unique()"
   ]
  },
  {
   "cell_type": "markdown",
   "id": "71c774f3",
   "metadata": {},
   "source": [
    "# Creating a new column Total_Sales "
   ]
  },
  {
   "cell_type": "code",
   "execution_count": 32,
   "id": "7fca26cd",
   "metadata": {
    "scrolled": true
   },
   "outputs": [
    {
     "name": "stderr",
     "output_type": "stream",
     "text": [
      "/var/folders/ms/gtqm6sgn3h9gj21_t32_d2940000gn/T/ipykernel_44021/2979303691.py:1: SettingWithCopyWarning: \n",
      "A value is trying to be set on a copy of a slice from a DataFrame.\n",
      "Try using .loc[row_indexer,col_indexer] = value instead\n",
      "\n",
      "See the caveats in the documentation: https://pandas.pydata.org/pandas-docs/stable/user_guide/indexing.html#returning-a-view-versus-a-copy\n",
      "  data_base1['Quantity Ordered'] = pd.to_numeric(data_base1['Quantity Ordered'], errors='coerce')\n",
      "/var/folders/ms/gtqm6sgn3h9gj21_t32_d2940000gn/T/ipykernel_44021/2979303691.py:2: SettingWithCopyWarning: \n",
      "A value is trying to be set on a copy of a slice from a DataFrame.\n",
      "Try using .loc[row_indexer,col_indexer] = value instead\n",
      "\n",
      "See the caveats in the documentation: https://pandas.pydata.org/pandas-docs/stable/user_guide/indexing.html#returning-a-view-versus-a-copy\n",
      "  data_base1['Price Each'] = pd.to_numeric(data_base1['Price Each'], errors='coerce')\n",
      "/var/folders/ms/gtqm6sgn3h9gj21_t32_d2940000gn/T/ipykernel_44021/2979303691.py:4: SettingWithCopyWarning: \n",
      "A value is trying to be set on a copy of a slice from a DataFrame.\n",
      "Try using .loc[row_indexer,col_indexer] = value instead\n",
      "\n",
      "See the caveats in the documentation: https://pandas.pydata.org/pandas-docs/stable/user_guide/indexing.html#returning-a-view-versus-a-copy\n",
      "  data_base1['Total_Sales'] = data_base1['Quantity Ordered'] * data_base1['Price Each']\n"
     ]
    }
   ],
   "source": [
    "\n",
    "data_base1['Quantity Ordered'] = pd.to_numeric(data_base1['Quantity Ordered'], errors='coerce')\n",
    "data_base1['Price Each'] = pd.to_numeric(data_base1['Price Each'], errors='coerce')\n",
    "\n",
    "data_base1['Total_Sales'] = data_base1['Quantity Ordered'] * data_base1['Price Each']\n"
   ]
  },
  {
   "cell_type": "code",
   "execution_count": 33,
   "id": "0b3ab51e",
   "metadata": {},
   "outputs": [
    {
     "data": {
      "text/html": [
       "<div>\n",
       "<style scoped>\n",
       "    .dataframe tbody tr th:only-of-type {\n",
       "        vertical-align: middle;\n",
       "    }\n",
       "\n",
       "    .dataframe tbody tr th {\n",
       "        vertical-align: top;\n",
       "    }\n",
       "\n",
       "    .dataframe thead th {\n",
       "        text-align: right;\n",
       "    }\n",
       "</style>\n",
       "<table border=\"1\" class=\"dataframe\">\n",
       "  <thead>\n",
       "    <tr style=\"text-align: right;\">\n",
       "      <th></th>\n",
       "      <th>Order ID</th>\n",
       "      <th>Product</th>\n",
       "      <th>Quantity Ordered</th>\n",
       "      <th>Price Each</th>\n",
       "      <th>Order Date</th>\n",
       "      <th>Purchase Address</th>\n",
       "      <th>Month</th>\n",
       "      <th>Total_Sales</th>\n",
       "    </tr>\n",
       "  </thead>\n",
       "  <tbody>\n",
       "    <tr>\n",
       "      <th>0</th>\n",
       "      <td>295665</td>\n",
       "      <td>Macbook Pro Laptop</td>\n",
       "      <td>1</td>\n",
       "      <td>1700.00</td>\n",
       "      <td>12/30/19 00:01</td>\n",
       "      <td>136 Church St, New York City, NY 10001</td>\n",
       "      <td>12</td>\n",
       "      <td>1700.00</td>\n",
       "    </tr>\n",
       "    <tr>\n",
       "      <th>1</th>\n",
       "      <td>295666</td>\n",
       "      <td>LG Washing Machine</td>\n",
       "      <td>1</td>\n",
       "      <td>600.00</td>\n",
       "      <td>12/29/19 07:03</td>\n",
       "      <td>562 2nd St, New York City, NY 10001</td>\n",
       "      <td>12</td>\n",
       "      <td>600.00</td>\n",
       "    </tr>\n",
       "    <tr>\n",
       "      <th>2</th>\n",
       "      <td>295667</td>\n",
       "      <td>USB-C Charging Cable</td>\n",
       "      <td>1</td>\n",
       "      <td>11.95</td>\n",
       "      <td>12/12/19 18:21</td>\n",
       "      <td>277 Main St, New York City, NY 10001</td>\n",
       "      <td>12</td>\n",
       "      <td>11.95</td>\n",
       "    </tr>\n",
       "    <tr>\n",
       "      <th>3</th>\n",
       "      <td>295668</td>\n",
       "      <td>27in FHD Monitor</td>\n",
       "      <td>1</td>\n",
       "      <td>149.99</td>\n",
       "      <td>12/22/19 15:13</td>\n",
       "      <td>410 6th St, San Francisco, CA 94016</td>\n",
       "      <td>12</td>\n",
       "      <td>149.99</td>\n",
       "    </tr>\n",
       "    <tr>\n",
       "      <th>4</th>\n",
       "      <td>295669</td>\n",
       "      <td>USB-C Charging Cable</td>\n",
       "      <td>1</td>\n",
       "      <td>11.95</td>\n",
       "      <td>12/18/19 12:38</td>\n",
       "      <td>43 Hill St, Atlanta, GA 30301</td>\n",
       "      <td>12</td>\n",
       "      <td>11.95</td>\n",
       "    </tr>\n",
       "    <tr>\n",
       "      <th>...</th>\n",
       "      <td>...</td>\n",
       "      <td>...</td>\n",
       "      <td>...</td>\n",
       "      <td>...</td>\n",
       "      <td>...</td>\n",
       "      <td>...</td>\n",
       "      <td>...</td>\n",
       "      <td>...</td>\n",
       "    </tr>\n",
       "    <tr>\n",
       "      <th>13617</th>\n",
       "      <td>222905</td>\n",
       "      <td>AAA Batteries (4-pack)</td>\n",
       "      <td>1</td>\n",
       "      <td>2.99</td>\n",
       "      <td>06/07/19 19:02</td>\n",
       "      <td>795 Pine St, Boston, MA 02215</td>\n",
       "      <td>06</td>\n",
       "      <td>2.99</td>\n",
       "    </tr>\n",
       "    <tr>\n",
       "      <th>13618</th>\n",
       "      <td>222906</td>\n",
       "      <td>27in FHD Monitor</td>\n",
       "      <td>1</td>\n",
       "      <td>149.99</td>\n",
       "      <td>06/01/19 19:29</td>\n",
       "      <td>495 North St, New York City, NY 10001</td>\n",
       "      <td>06</td>\n",
       "      <td>149.99</td>\n",
       "    </tr>\n",
       "    <tr>\n",
       "      <th>13619</th>\n",
       "      <td>222907</td>\n",
       "      <td>USB-C Charging Cable</td>\n",
       "      <td>1</td>\n",
       "      <td>11.95</td>\n",
       "      <td>06/22/19 18:57</td>\n",
       "      <td>319 Ridge St, San Francisco, CA 94016</td>\n",
       "      <td>06</td>\n",
       "      <td>11.95</td>\n",
       "    </tr>\n",
       "    <tr>\n",
       "      <th>13620</th>\n",
       "      <td>222908</td>\n",
       "      <td>USB-C Charging Cable</td>\n",
       "      <td>1</td>\n",
       "      <td>11.95</td>\n",
       "      <td>06/26/19 18:35</td>\n",
       "      <td>916 Main St, San Francisco, CA 94016</td>\n",
       "      <td>06</td>\n",
       "      <td>11.95</td>\n",
       "    </tr>\n",
       "    <tr>\n",
       "      <th>13621</th>\n",
       "      <td>222909</td>\n",
       "      <td>AAA Batteries (4-pack)</td>\n",
       "      <td>1</td>\n",
       "      <td>2.99</td>\n",
       "      <td>06/25/19 14:33</td>\n",
       "      <td>209 11th St, Atlanta, GA 30301</td>\n",
       "      <td>06</td>\n",
       "      <td>2.99</td>\n",
       "    </tr>\n",
       "  </tbody>\n",
       "</table>\n",
       "<p>185950 rows × 8 columns</p>\n",
       "</div>"
      ],
      "text/plain": [
       "      Order ID                 Product  Quantity Ordered  Price Each  \\\n",
       "0       295665      Macbook Pro Laptop                 1     1700.00   \n",
       "1       295666      LG Washing Machine                 1      600.00   \n",
       "2       295667    USB-C Charging Cable                 1       11.95   \n",
       "3       295668        27in FHD Monitor                 1      149.99   \n",
       "4       295669    USB-C Charging Cable                 1       11.95   \n",
       "...        ...                     ...               ...         ...   \n",
       "13617   222905  AAA Batteries (4-pack)                 1        2.99   \n",
       "13618   222906        27in FHD Monitor                 1      149.99   \n",
       "13619   222907    USB-C Charging Cable                 1       11.95   \n",
       "13620   222908    USB-C Charging Cable                 1       11.95   \n",
       "13621   222909  AAA Batteries (4-pack)                 1        2.99   \n",
       "\n",
       "           Order Date                        Purchase Address Month  \\\n",
       "0      12/30/19 00:01  136 Church St, New York City, NY 10001    12   \n",
       "1      12/29/19 07:03     562 2nd St, New York City, NY 10001    12   \n",
       "2      12/12/19 18:21    277 Main St, New York City, NY 10001    12   \n",
       "3      12/22/19 15:13     410 6th St, San Francisco, CA 94016    12   \n",
       "4      12/18/19 12:38           43 Hill St, Atlanta, GA 30301    12   \n",
       "...               ...                                     ...   ...   \n",
       "13617  06/07/19 19:02           795 Pine St, Boston, MA 02215    06   \n",
       "13618  06/01/19 19:29   495 North St, New York City, NY 10001    06   \n",
       "13619  06/22/19 18:57   319 Ridge St, San Francisco, CA 94016    06   \n",
       "13620  06/26/19 18:35    916 Main St, San Francisco, CA 94016    06   \n",
       "13621  06/25/19 14:33          209 11th St, Atlanta, GA 30301    06   \n",
       "\n",
       "       Total_Sales  \n",
       "0          1700.00  \n",
       "1           600.00  \n",
       "2            11.95  \n",
       "3           149.99  \n",
       "4            11.95  \n",
       "...            ...  \n",
       "13617         2.99  \n",
       "13618       149.99  \n",
       "13619        11.95  \n",
       "13620        11.95  \n",
       "13621         2.99  \n",
       "\n",
       "[185950 rows x 8 columns]"
      ]
     },
     "execution_count": 33,
     "metadata": {},
     "output_type": "execute_result"
    }
   ],
   "source": [
    "data_base1"
   ]
  },
  {
   "cell_type": "code",
   "execution_count": 34,
   "id": "635222dc",
   "metadata": {},
   "outputs": [
    {
     "data": {
      "text/plain": [
       "Order ID            0\n",
       "Product             0\n",
       "Quantity Ordered    0\n",
       "Price Each          0\n",
       "Order Date          0\n",
       "Purchase Address    0\n",
       "Month               0\n",
       "Total_Sales         0\n",
       "dtype: int64"
      ]
     },
     "execution_count": 34,
     "metadata": {},
     "output_type": "execute_result"
    }
   ],
   "source": [
    "data_base1.isna().sum()"
   ]
  },
  {
   "cell_type": "markdown",
   "id": "1d3b1165",
   "metadata": {},
   "source": [
    "# Total amount of Sales recorded each month"
   ]
  },
  {
   "cell_type": "code",
   "execution_count": 35,
   "id": "064870e9",
   "metadata": {},
   "outputs": [
    {
     "data": {
      "text/plain": [
       "Month\n",
       "01    1822256.73\n",
       "02    2202022.42\n",
       "03    2807100.38\n",
       "04    3390670.24\n",
       "05    3152606.75\n",
       "06    2577802.26\n",
       "07    2647775.76\n",
       "08    2244467.88\n",
       "09    2097560.13\n",
       "10    3736726.88\n",
       "11    3199603.20\n",
       "12    4613443.34\n",
       "Name: Total_Sales, dtype: float64"
      ]
     },
     "execution_count": 35,
     "metadata": {},
     "output_type": "execute_result"
    }
   ],
   "source": [
    "sales_bymonth = data_base1.groupby('Month')['Total_Sales'].sum()\n",
    "sales_bymonth"
   ]
  },
  {
   "cell_type": "markdown",
   "id": "96bd523f",
   "metadata": {},
   "source": [
    "# Graph representing the month which accounted for the highest number of sales"
   ]
  },
  {
   "cell_type": "code",
   "execution_count": 36,
   "id": "800a3b9a",
   "metadata": {},
   "outputs": [
    {
     "data": {
      "image/png": "[encoded data removed]",
      "text/plain": [
       "<Figure size 800x500 with 1 Axes>"
      ]
     },
     "metadata": {},
     "output_type": "display_data"
    }
   ],
   "source": [
    "Month = range(1,13)\n",
    "\n",
    "plt.figure(figsize = (8,5))\n",
    "\n",
    "\n",
    "plt.bar(Month, sales_bymonth.values)\n",
    "\n",
    "\n",
    "plt.xticks(Month)\n",
    "plt.xlabel('Month Number')\n",
    "plt.ylabel('Sales in USD')\n",
    "plt.title('Total number of Sales per month')\n",
    "\n",
    "plt.savefig('fig1.jpg')\n",
    "plt.show()\n",
    "\n"
   ]
  },
  {
   "cell_type": "markdown",
   "id": "e71b5be3",
   "metadata": {},
   "source": [
    "# City which recorded the highest number of sales"
   ]
  },
  {
   "cell_type": "markdown",
   "id": "f4649625",
   "metadata": {},
   "source": [
    "# "
   ]
  },
  {
   "cell_type": "markdown",
   "id": "eedd36c0",
   "metadata": {},
   "source": [
    "# Extraction of City as a column "
   ]
  },
  {
   "cell_type": "code",
   "execution_count": 37,
   "id": "5ea7e0e4",
   "metadata": {},
   "outputs": [
    {
     "data": {
      "text/plain": [
       "' New York City'"
      ]
     },
     "execution_count": 37,
     "metadata": {},
     "output_type": "execute_result"
    }
   ],
   "source": [
    "def City(x):\n",
    "    return x.split(',')[1]\n",
    "\n",
    "City('136 Church St, New York City, NY 10001')"
   ]
  },
  {
   "cell_type": "code",
   "execution_count": 38,
   "id": "e231ae66",
   "metadata": {},
   "outputs": [
    {
     "name": "stderr",
     "output_type": "stream",
     "text": [
      "/var/folders/ms/gtqm6sgn3h9gj21_t32_d2940000gn/T/ipykernel_44021/4227439980.py:1: SettingWithCopyWarning: \n",
      "A value is trying to be set on a copy of a slice from a DataFrame.\n",
      "Try using .loc[row_indexer,col_indexer] = value instead\n",
      "\n",
      "See the caveats in the documentation: https://pandas.pydata.org/pandas-docs/stable/user_guide/indexing.html#returning-a-view-versus-a-copy\n",
      "  data_base1['City'] = data_base1['Purchase Address'].apply(City)\n"
     ]
    },
    {
     "data": {
      "text/html": [
       "<div>\n",
       "<style scoped>\n",
       "    .dataframe tbody tr th:only-of-type {\n",
       "        vertical-align: middle;\n",
       "    }\n",
       "\n",
       "    .dataframe tbody tr th {\n",
       "        vertical-align: top;\n",
       "    }\n",
       "\n",
       "    .dataframe thead th {\n",
       "        text-align: right;\n",
       "    }\n",
       "</style>\n",
       "<table border=\"1\" class=\"dataframe\">\n",
       "  <thead>\n",
       "    <tr style=\"text-align: right;\">\n",
       "      <th></th>\n",
       "      <th>Order ID</th>\n",
       "      <th>Product</th>\n",
       "      <th>Quantity Ordered</th>\n",
       "      <th>Price Each</th>\n",
       "      <th>Order Date</th>\n",
       "      <th>Purchase Address</th>\n",
       "      <th>Month</th>\n",
       "      <th>Total_Sales</th>\n",
       "      <th>City</th>\n",
       "    </tr>\n",
       "  </thead>\n",
       "  <tbody>\n",
       "    <tr>\n",
       "      <th>0</th>\n",
       "      <td>295665</td>\n",
       "      <td>Macbook Pro Laptop</td>\n",
       "      <td>1</td>\n",
       "      <td>1700.00</td>\n",
       "      <td>12/30/19 00:01</td>\n",
       "      <td>136 Church St, New York City, NY 10001</td>\n",
       "      <td>12</td>\n",
       "      <td>1700.00</td>\n",
       "      <td>New York City</td>\n",
       "    </tr>\n",
       "    <tr>\n",
       "      <th>1</th>\n",
       "      <td>295666</td>\n",
       "      <td>LG Washing Machine</td>\n",
       "      <td>1</td>\n",
       "      <td>600.00</td>\n",
       "      <td>12/29/19 07:03</td>\n",
       "      <td>562 2nd St, New York City, NY 10001</td>\n",
       "      <td>12</td>\n",
       "      <td>600.00</td>\n",
       "      <td>New York City</td>\n",
       "    </tr>\n",
       "    <tr>\n",
       "      <th>2</th>\n",
       "      <td>295667</td>\n",
       "      <td>USB-C Charging Cable</td>\n",
       "      <td>1</td>\n",
       "      <td>11.95</td>\n",
       "      <td>12/12/19 18:21</td>\n",
       "      <td>277 Main St, New York City, NY 10001</td>\n",
       "      <td>12</td>\n",
       "      <td>11.95</td>\n",
       "      <td>New York City</td>\n",
       "    </tr>\n",
       "    <tr>\n",
       "      <th>3</th>\n",
       "      <td>295668</td>\n",
       "      <td>27in FHD Monitor</td>\n",
       "      <td>1</td>\n",
       "      <td>149.99</td>\n",
       "      <td>12/22/19 15:13</td>\n",
       "      <td>410 6th St, San Francisco, CA 94016</td>\n",
       "      <td>12</td>\n",
       "      <td>149.99</td>\n",
       "      <td>San Francisco</td>\n",
       "    </tr>\n",
       "    <tr>\n",
       "      <th>4</th>\n",
       "      <td>295669</td>\n",
       "      <td>USB-C Charging Cable</td>\n",
       "      <td>1</td>\n",
       "      <td>11.95</td>\n",
       "      <td>12/18/19 12:38</td>\n",
       "      <td>43 Hill St, Atlanta, GA 30301</td>\n",
       "      <td>12</td>\n",
       "      <td>11.95</td>\n",
       "      <td>Atlanta</td>\n",
       "    </tr>\n",
       "    <tr>\n",
       "      <th>...</th>\n",
       "      <td>...</td>\n",
       "      <td>...</td>\n",
       "      <td>...</td>\n",
       "      <td>...</td>\n",
       "      <td>...</td>\n",
       "      <td>...</td>\n",
       "      <td>...</td>\n",
       "      <td>...</td>\n",
       "      <td>...</td>\n",
       "    </tr>\n",
       "    <tr>\n",
       "      <th>13617</th>\n",
       "      <td>222905</td>\n",
       "      <td>AAA Batteries (4-pack)</td>\n",
       "      <td>1</td>\n",
       "      <td>2.99</td>\n",
       "      <td>06/07/19 19:02</td>\n",
       "      <td>795 Pine St, Boston, MA 02215</td>\n",
       "      <td>06</td>\n",
       "      <td>2.99</td>\n",
       "      <td>Boston</td>\n",
       "    </tr>\n",
       "    <tr>\n",
       "      <th>13618</th>\n",
       "      <td>222906</td>\n",
       "      <td>27in FHD Monitor</td>\n",
       "      <td>1</td>\n",
       "      <td>149.99</td>\n",
       "      <td>06/01/19 19:29</td>\n",
       "      <td>495 North St, New York City, NY 10001</td>\n",
       "      <td>06</td>\n",
       "      <td>149.99</td>\n",
       "      <td>New York City</td>\n",
       "    </tr>\n",
       "    <tr>\n",
       "      <th>13619</th>\n",
       "      <td>222907</td>\n",
       "      <td>USB-C Charging Cable</td>\n",
       "      <td>1</td>\n",
       "      <td>11.95</td>\n",
       "      <td>06/22/19 18:57</td>\n",
       "      <td>319 Ridge St, San Francisco, CA 94016</td>\n",
       "      <td>06</td>\n",
       "      <td>11.95</td>\n",
       "      <td>San Francisco</td>\n",
       "    </tr>\n",
       "    <tr>\n",
       "      <th>13620</th>\n",
       "      <td>222908</td>\n",
       "      <td>USB-C Charging Cable</td>\n",
       "      <td>1</td>\n",
       "      <td>11.95</td>\n",
       "      <td>06/26/19 18:35</td>\n",
       "      <td>916 Main St, San Francisco, CA 94016</td>\n",
       "      <td>06</td>\n",
       "      <td>11.95</td>\n",
       "      <td>San Francisco</td>\n",
       "    </tr>\n",
       "    <tr>\n",
       "      <th>13621</th>\n",
       "      <td>222909</td>\n",
       "      <td>AAA Batteries (4-pack)</td>\n",
       "      <td>1</td>\n",
       "      <td>2.99</td>\n",
       "      <td>06/25/19 14:33</td>\n",
       "      <td>209 11th St, Atlanta, GA 30301</td>\n",
       "      <td>06</td>\n",
       "      <td>2.99</td>\n",
       "      <td>Atlanta</td>\n",
       "    </tr>\n",
       "  </tbody>\n",
       "</table>\n",
       "<p>185950 rows × 9 columns</p>\n",
       "</div>"
      ],
      "text/plain": [
       "      Order ID                 Product  Quantity Ordered  Price Each  \\\n",
       "0       295665      Macbook Pro Laptop                 1     1700.00   \n",
       "1       295666      LG Washing Machine                 1      600.00   \n",
       "2       295667    USB-C Charging Cable                 1       11.95   \n",
       "3       295668        27in FHD Monitor                 1      149.99   \n",
       "4       295669    USB-C Charging Cable                 1       11.95   \n",
       "...        ...                     ...               ...         ...   \n",
       "13617   222905  AAA Batteries (4-pack)                 1        2.99   \n",
       "13618   222906        27in FHD Monitor                 1      149.99   \n",
       "13619   222907    USB-C Charging Cable                 1       11.95   \n",
       "13620   222908    USB-C Charging Cable                 1       11.95   \n",
       "13621   222909  AAA Batteries (4-pack)                 1        2.99   \n",
       "\n",
       "           Order Date                        Purchase Address Month  \\\n",
       "0      12/30/19 00:01  136 Church St, New York City, NY 10001    12   \n",
       "1      12/29/19 07:03     562 2nd St, New York City, NY 10001    12   \n",
       "2      12/12/19 18:21    277 Main St, New York City, NY 10001    12   \n",
       "3      12/22/19 15:13     410 6th St, San Francisco, CA 94016    12   \n",
       "4      12/18/19 12:38           43 Hill St, Atlanta, GA 30301    12   \n",
       "...               ...                                     ...   ...   \n",
       "13617  06/07/19 19:02           795 Pine St, Boston, MA 02215    06   \n",
       "13618  06/01/19 19:29   495 North St, New York City, NY 10001    06   \n",
       "13619  06/22/19 18:57   319 Ridge St, San Francisco, CA 94016    06   \n",
       "13620  06/26/19 18:35    916 Main St, San Francisco, CA 94016    06   \n",
       "13621  06/25/19 14:33          209 11th St, Atlanta, GA 30301    06   \n",
       "\n",
       "       Total_Sales            City  \n",
       "0          1700.00   New York City  \n",
       "1           600.00   New York City  \n",
       "2            11.95   New York City  \n",
       "3           149.99   San Francisco  \n",
       "4            11.95         Atlanta  \n",
       "...            ...             ...  \n",
       "13617         2.99          Boston  \n",
       "13618       149.99   New York City  \n",
       "13619        11.95   San Francisco  \n",
       "13620        11.95   San Francisco  \n",
       "13621         2.99         Atlanta  \n",
       "\n",
       "[185950 rows x 9 columns]"
      ]
     },
     "execution_count": 38,
     "metadata": {},
     "output_type": "execute_result"
    }
   ],
   "source": [
    "data_base1['City'] = data_base1['Purchase Address'].apply(City)\n",
    "data_base1"
   ]
  },
  {
   "cell_type": "code",
   "execution_count": 39,
   "id": "8294d29d",
   "metadata": {},
   "outputs": [
    {
     "data": {
      "text/plain": [
       "City\n",
       " Atlanta          2795498.58\n",
       " Austin           1819581.75\n",
       " Boston           3661642.01\n",
       " Dallas           2767975.40\n",
       " Los Angeles      5452570.80\n",
       " New York City    4664317.43\n",
       " Portland         2320490.61\n",
       " San Francisco    8262203.91\n",
       " Seattle          2747755.48\n",
       "Name: Total_Sales, dtype: float64"
      ]
     },
     "execution_count": 39,
     "metadata": {},
     "output_type": "execute_result"
    }
   ],
   "source": [
    "Total_city_sales = data_base1.groupby('City')['Total_Sales'].sum()\n",
    "Total_city_sales"
   ]
  },
  {
   "cell_type": "markdown",
   "id": "fdc668fc",
   "metadata": {},
   "source": [
    "# Graphic Representation of City with highest amount of total sales"
   ]
  },
  {
   "cell_type": "code",
   "execution_count": 40,
   "id": "5f142014",
   "metadata": {},
   "outputs": [
    {
     "data": {
      "image/png": "[encoded data removed]",
      "text/plain": [
       "<Figure size 800x600 with 1 Axes>"
      ]
     },
     "metadata": {},
     "output_type": "display_data"
    }
   ],
   "source": [
    "plt.figure(figsize = (8,6))\n",
    "plt.bar(Total_city_sales.index,Total_city_sales.values)\n",
    "plt.xticks(rotation = 'vertical')\n",
    "plt.xlabel('City')\n",
    "plt.ylabel('Sales in USD')\n",
    "\n",
    "plt.title('City with highest number of sales')\n",
    "plt.savefig('fig2.jpg')\n",
    "plt.show()"
   ]
  },
  {
   "cell_type": "markdown",
   "id": "49eb5085",
   "metadata": {},
   "source": [
    "# City which recorded the highest amount of orders"
   ]
  },
  {
   "cell_type": "code",
   "execution_count": 41,
   "id": "8f1832b6",
   "metadata": {},
   "outputs": [
    {
     "data": {
      "text/plain": [
       "City\n",
       " Atlanta          16602\n",
       " Austin           11153\n",
       " Boston           22528\n",
       " Dallas           16730\n",
       " Los Angeles      33289\n",
       " New York City    27932\n",
       " Portland         14053\n",
       " San Francisco    50239\n",
       " Seattle          16553\n",
       "Name: Quantity Ordered, dtype: int64"
      ]
     },
     "execution_count": 41,
     "metadata": {},
     "output_type": "execute_result"
    }
   ],
   "source": [
    "total_city_orders = data_base1.groupby('City')['Quantity Ordered'].sum()\n",
    "total_city_orders"
   ]
  },
  {
   "cell_type": "code",
   "execution_count": 42,
   "id": "2d2de62d",
   "metadata": {},
   "outputs": [
    {
     "data": {
      "image/png": "[encoded data removed]",
      "text/plain": [
       "<Figure size 800x500 with 1 Axes>"
      ]
     },
     "metadata": {},
     "output_type": "display_data"
    }
   ],
   "source": [
    "plt.figure(figsize = (8,5))\n",
    "plt.bar(total_city_orders.index,total_city_orders.values)\n",
    "plt.xticks(rotation = 'vertical')\n",
    "\n",
    "plt.title('City that received the highest number of orders')\n",
    "plt.xlabel('City')\n",
    "plt.ylabel('Orders number')\n",
    "\n",
    "plt.savefig('fig3.jpg')\n",
    "plt.show()"
   ]
  },
  {
   "cell_type": "markdown",
   "id": "a0e582e3",
   "metadata": {},
   "source": [
    "# Hour of the day during which highest number of sales was recorded"
   ]
  },
  {
   "cell_type": "markdown",
   "id": "eab2fb90",
   "metadata": {},
   "source": [
    "# "
   ]
  },
  {
   "cell_type": "markdown",
   "id": "c29a0179",
   "metadata": {},
   "source": [
    "# Extraction of the Time column"
   ]
  },
  {
   "cell_type": "code",
   "execution_count": 43,
   "id": "25b92bdf",
   "metadata": {},
   "outputs": [
    {
     "data": {
      "text/plain": [
       "'00:01'"
      ]
     },
     "execution_count": 43,
     "metadata": {},
     "output_type": "execute_result"
    }
   ],
   "source": [
    "def Time(x):\n",
    "    return x.split()[1]\n",
    "\n",
    "Time('12/30/19 00:01')"
   ]
  },
  {
   "cell_type": "code",
   "execution_count": 44,
   "id": "b22be6bb",
   "metadata": {},
   "outputs": [
    {
     "name": "stderr",
     "output_type": "stream",
     "text": [
      "/var/folders/ms/gtqm6sgn3h9gj21_t32_d2940000gn/T/ipykernel_44021/3096341599.py:1: SettingWithCopyWarning: \n",
      "A value is trying to be set on a copy of a slice from a DataFrame.\n",
      "Try using .loc[row_indexer,col_indexer] = value instead\n",
      "\n",
      "See the caveats in the documentation: https://pandas.pydata.org/pandas-docs/stable/user_guide/indexing.html#returning-a-view-versus-a-copy\n",
      "  data_base1['Time'] = data_base1['Order Date'].apply(Time)\n"
     ]
    },
    {
     "data": {
      "text/html": [
       "<div>\n",
       "<style scoped>\n",
       "    .dataframe tbody tr th:only-of-type {\n",
       "        vertical-align: middle;\n",
       "    }\n",
       "\n",
       "    .dataframe tbody tr th {\n",
       "        vertical-align: top;\n",
       "    }\n",
       "\n",
       "    .dataframe thead th {\n",
       "        text-align: right;\n",
       "    }\n",
       "</style>\n",
       "<table border=\"1\" class=\"dataframe\">\n",
       "  <thead>\n",
       "    <tr style=\"text-align: right;\">\n",
       "      <th></th>\n",
       "      <th>Order ID</th>\n",
       "      <th>Product</th>\n",
       "      <th>Quantity Ordered</th>\n",
       "      <th>Price Each</th>\n",
       "      <th>Order Date</th>\n",
       "      <th>Purchase Address</th>\n",
       "      <th>Month</th>\n",
       "      <th>Total_Sales</th>\n",
       "      <th>City</th>\n",
       "      <th>Time</th>\n",
       "    </tr>\n",
       "  </thead>\n",
       "  <tbody>\n",
       "    <tr>\n",
       "      <th>0</th>\n",
       "      <td>295665</td>\n",
       "      <td>Macbook Pro Laptop</td>\n",
       "      <td>1</td>\n",
       "      <td>1700.00</td>\n",
       "      <td>12/30/19 00:01</td>\n",
       "      <td>136 Church St, New York City, NY 10001</td>\n",
       "      <td>12</td>\n",
       "      <td>1700.00</td>\n",
       "      <td>New York City</td>\n",
       "      <td>00:01</td>\n",
       "    </tr>\n",
       "    <tr>\n",
       "      <th>1</th>\n",
       "      <td>295666</td>\n",
       "      <td>LG Washing Machine</td>\n",
       "      <td>1</td>\n",
       "      <td>600.00</td>\n",
       "      <td>12/29/19 07:03</td>\n",
       "      <td>562 2nd St, New York City, NY 10001</td>\n",
       "      <td>12</td>\n",
       "      <td>600.00</td>\n",
       "      <td>New York City</td>\n",
       "      <td>07:03</td>\n",
       "    </tr>\n",
       "    <tr>\n",
       "      <th>2</th>\n",
       "      <td>295667</td>\n",
       "      <td>USB-C Charging Cable</td>\n",
       "      <td>1</td>\n",
       "      <td>11.95</td>\n",
       "      <td>12/12/19 18:21</td>\n",
       "      <td>277 Main St, New York City, NY 10001</td>\n",
       "      <td>12</td>\n",
       "      <td>11.95</td>\n",
       "      <td>New York City</td>\n",
       "      <td>18:21</td>\n",
       "    </tr>\n",
       "    <tr>\n",
       "      <th>3</th>\n",
       "      <td>295668</td>\n",
       "      <td>27in FHD Monitor</td>\n",
       "      <td>1</td>\n",
       "      <td>149.99</td>\n",
       "      <td>12/22/19 15:13</td>\n",
       "      <td>410 6th St, San Francisco, CA 94016</td>\n",
       "      <td>12</td>\n",
       "      <td>149.99</td>\n",
       "      <td>San Francisco</td>\n",
       "      <td>15:13</td>\n",
       "    </tr>\n",
       "    <tr>\n",
       "      <th>4</th>\n",
       "      <td>295669</td>\n",
       "      <td>USB-C Charging Cable</td>\n",
       "      <td>1</td>\n",
       "      <td>11.95</td>\n",
       "      <td>12/18/19 12:38</td>\n",
       "      <td>43 Hill St, Atlanta, GA 30301</td>\n",
       "      <td>12</td>\n",
       "      <td>11.95</td>\n",
       "      <td>Atlanta</td>\n",
       "      <td>12:38</td>\n",
       "    </tr>\n",
       "    <tr>\n",
       "      <th>...</th>\n",
       "      <td>...</td>\n",
       "      <td>...</td>\n",
       "      <td>...</td>\n",
       "      <td>...</td>\n",
       "      <td>...</td>\n",
       "      <td>...</td>\n",
       "      <td>...</td>\n",
       "      <td>...</td>\n",
       "      <td>...</td>\n",
       "      <td>...</td>\n",
       "    </tr>\n",
       "    <tr>\n",
       "      <th>13617</th>\n",
       "      <td>222905</td>\n",
       "      <td>AAA Batteries (4-pack)</td>\n",
       "      <td>1</td>\n",
       "      <td>2.99</td>\n",
       "      <td>06/07/19 19:02</td>\n",
       "      <td>795 Pine St, Boston, MA 02215</td>\n",
       "      <td>06</td>\n",
       "      <td>2.99</td>\n",
       "      <td>Boston</td>\n",
       "      <td>19:02</td>\n",
       "    </tr>\n",
       "    <tr>\n",
       "      <th>13618</th>\n",
       "      <td>222906</td>\n",
       "      <td>27in FHD Monitor</td>\n",
       "      <td>1</td>\n",
       "      <td>149.99</td>\n",
       "      <td>06/01/19 19:29</td>\n",
       "      <td>495 North St, New York City, NY 10001</td>\n",
       "      <td>06</td>\n",
       "      <td>149.99</td>\n",
       "      <td>New York City</td>\n",
       "      <td>19:29</td>\n",
       "    </tr>\n",
       "    <tr>\n",
       "      <th>13619</th>\n",
       "      <td>222907</td>\n",
       "      <td>USB-C Charging Cable</td>\n",
       "      <td>1</td>\n",
       "      <td>11.95</td>\n",
       "      <td>06/22/19 18:57</td>\n",
       "      <td>319 Ridge St, San Francisco, CA 94016</td>\n",
       "      <td>06</td>\n",
       "      <td>11.95</td>\n",
       "      <td>San Francisco</td>\n",
       "      <td>18:57</td>\n",
       "    </tr>\n",
       "    <tr>\n",
       "      <th>13620</th>\n",
       "      <td>222908</td>\n",
       "      <td>USB-C Charging Cable</td>\n",
       "      <td>1</td>\n",
       "      <td>11.95</td>\n",
       "      <td>06/26/19 18:35</td>\n",
       "      <td>916 Main St, San Francisco, CA 94016</td>\n",
       "      <td>06</td>\n",
       "      <td>11.95</td>\n",
       "      <td>San Francisco</td>\n",
       "      <td>18:35</td>\n",
       "    </tr>\n",
       "    <tr>\n",
       "      <th>13621</th>\n",
       "      <td>222909</td>\n",
       "      <td>AAA Batteries (4-pack)</td>\n",
       "      <td>1</td>\n",
       "      <td>2.99</td>\n",
       "      <td>06/25/19 14:33</td>\n",
       "      <td>209 11th St, Atlanta, GA 30301</td>\n",
       "      <td>06</td>\n",
       "      <td>2.99</td>\n",
       "      <td>Atlanta</td>\n",
       "      <td>14:33</td>\n",
       "    </tr>\n",
       "  </tbody>\n",
       "</table>\n",
       "<p>185950 rows × 10 columns</p>\n",
       "</div>"
      ],
      "text/plain": [
       "      Order ID                 Product  Quantity Ordered  Price Each  \\\n",
       "0       295665      Macbook Pro Laptop                 1     1700.00   \n",
       "1       295666      LG Washing Machine                 1      600.00   \n",
       "2       295667    USB-C Charging Cable                 1       11.95   \n",
       "3       295668        27in FHD Monitor                 1      149.99   \n",
       "4       295669    USB-C Charging Cable                 1       11.95   \n",
       "...        ...                     ...               ...         ...   \n",
       "13617   222905  AAA Batteries (4-pack)                 1        2.99   \n",
       "13618   222906        27in FHD Monitor                 1      149.99   \n",
       "13619   222907    USB-C Charging Cable                 1       11.95   \n",
       "13620   222908    USB-C Charging Cable                 1       11.95   \n",
       "13621   222909  AAA Batteries (4-pack)                 1        2.99   \n",
       "\n",
       "           Order Date                        Purchase Address Month  \\\n",
       "0      12/30/19 00:01  136 Church St, New York City, NY 10001    12   \n",
       "1      12/29/19 07:03     562 2nd St, New York City, NY 10001    12   \n",
       "2      12/12/19 18:21    277 Main St, New York City, NY 10001    12   \n",
       "3      12/22/19 15:13     410 6th St, San Francisco, CA 94016    12   \n",
       "4      12/18/19 12:38           43 Hill St, Atlanta, GA 30301    12   \n",
       "...               ...                                     ...   ...   \n",
       "13617  06/07/19 19:02           795 Pine St, Boston, MA 02215    06   \n",
       "13618  06/01/19 19:29   495 North St, New York City, NY 10001    06   \n",
       "13619  06/22/19 18:57   319 Ridge St, San Francisco, CA 94016    06   \n",
       "13620  06/26/19 18:35    916 Main St, San Francisco, CA 94016    06   \n",
       "13621  06/25/19 14:33          209 11th St, Atlanta, GA 30301    06   \n",
       "\n",
       "       Total_Sales            City   Time  \n",
       "0          1700.00   New York City  00:01  \n",
       "1           600.00   New York City  07:03  \n",
       "2            11.95   New York City  18:21  \n",
       "3           149.99   San Francisco  15:13  \n",
       "4            11.95         Atlanta  12:38  \n",
       "...            ...             ...    ...  \n",
       "13617         2.99          Boston  19:02  \n",
       "13618       149.99   New York City  19:29  \n",
       "13619        11.95   San Francisco  18:57  \n",
       "13620        11.95   San Francisco  18:35  \n",
       "13621         2.99         Atlanta  14:33  \n",
       "\n",
       "[185950 rows x 10 columns]"
      ]
     },
     "execution_count": 44,
     "metadata": {},
     "output_type": "execute_result"
    }
   ],
   "source": [
    "data_base1['Time'] = data_base1['Order Date'].apply(Time)\n",
    "data_base1"
   ]
  },
  {
   "cell_type": "markdown",
   "id": "a8582943",
   "metadata": {},
   "source": [
    "# Extraction of the hour column"
   ]
  },
  {
   "cell_type": "code",
   "execution_count": 45,
   "id": "b35a94ae",
   "metadata": {},
   "outputs": [
    {
     "data": {
      "text/plain": [
       "'12'"
      ]
     },
     "execution_count": 45,
     "metadata": {},
     "output_type": "execute_result"
    }
   ],
   "source": [
    "def Hour(x):\n",
    "    return x.split(':')[0]\n",
    "\n",
    "Hour('12:38')"
   ]
  },
  {
   "cell_type": "code",
   "execution_count": 46,
   "id": "bb1aaf1e",
   "metadata": {},
   "outputs": [
    {
     "name": "stderr",
     "output_type": "stream",
     "text": [
      "/var/folders/ms/gtqm6sgn3h9gj21_t32_d2940000gn/T/ipykernel_44021/2508597869.py:1: SettingWithCopyWarning: \n",
      "A value is trying to be set on a copy of a slice from a DataFrame.\n",
      "Try using .loc[row_indexer,col_indexer] = value instead\n",
      "\n",
      "See the caveats in the documentation: https://pandas.pydata.org/pandas-docs/stable/user_guide/indexing.html#returning-a-view-versus-a-copy\n",
      "  data_base1['Hour'] = data_base1['Time'].apply(Hour)\n"
     ]
    },
    {
     "data": {
      "text/html": [
       "<div>\n",
       "<style scoped>\n",
       "    .dataframe tbody tr th:only-of-type {\n",
       "        vertical-align: middle;\n",
       "    }\n",
       "\n",
       "    .dataframe tbody tr th {\n",
       "        vertical-align: top;\n",
       "    }\n",
       "\n",
       "    .dataframe thead th {\n",
       "        text-align: right;\n",
       "    }\n",
       "</style>\n",
       "<table border=\"1\" class=\"dataframe\">\n",
       "  <thead>\n",
       "    <tr style=\"text-align: right;\">\n",
       "      <th></th>\n",
       "      <th>Order ID</th>\n",
       "      <th>Product</th>\n",
       "      <th>Quantity Ordered</th>\n",
       "      <th>Price Each</th>\n",
       "      <th>Order Date</th>\n",
       "      <th>Purchase Address</th>\n",
       "      <th>Month</th>\n",
       "      <th>Total_Sales</th>\n",
       "      <th>City</th>\n",
       "      <th>Time</th>\n",
       "      <th>Hour</th>\n",
       "    </tr>\n",
       "  </thead>\n",
       "  <tbody>\n",
       "    <tr>\n",
       "      <th>0</th>\n",
       "      <td>295665</td>\n",
       "      <td>Macbook Pro Laptop</td>\n",
       "      <td>1</td>\n",
       "      <td>1700.00</td>\n",
       "      <td>12/30/19 00:01</td>\n",
       "      <td>136 Church St, New York City, NY 10001</td>\n",
       "      <td>12</td>\n",
       "      <td>1700.00</td>\n",
       "      <td>New York City</td>\n",
       "      <td>00:01</td>\n",
       "      <td>00</td>\n",
       "    </tr>\n",
       "    <tr>\n",
       "      <th>1</th>\n",
       "      <td>295666</td>\n",
       "      <td>LG Washing Machine</td>\n",
       "      <td>1</td>\n",
       "      <td>600.00</td>\n",
       "      <td>12/29/19 07:03</td>\n",
       "      <td>562 2nd St, New York City, NY 10001</td>\n",
       "      <td>12</td>\n",
       "      <td>600.00</td>\n",
       "      <td>New York City</td>\n",
       "      <td>07:03</td>\n",
       "      <td>07</td>\n",
       "    </tr>\n",
       "    <tr>\n",
       "      <th>2</th>\n",
       "      <td>295667</td>\n",
       "      <td>USB-C Charging Cable</td>\n",
       "      <td>1</td>\n",
       "      <td>11.95</td>\n",
       "      <td>12/12/19 18:21</td>\n",
       "      <td>277 Main St, New York City, NY 10001</td>\n",
       "      <td>12</td>\n",
       "      <td>11.95</td>\n",
       "      <td>New York City</td>\n",
       "      <td>18:21</td>\n",
       "      <td>18</td>\n",
       "    </tr>\n",
       "    <tr>\n",
       "      <th>3</th>\n",
       "      <td>295668</td>\n",
       "      <td>27in FHD Monitor</td>\n",
       "      <td>1</td>\n",
       "      <td>149.99</td>\n",
       "      <td>12/22/19 15:13</td>\n",
       "      <td>410 6th St, San Francisco, CA 94016</td>\n",
       "      <td>12</td>\n",
       "      <td>149.99</td>\n",
       "      <td>San Francisco</td>\n",
       "      <td>15:13</td>\n",
       "      <td>15</td>\n",
       "    </tr>\n",
       "    <tr>\n",
       "      <th>4</th>\n",
       "      <td>295669</td>\n",
       "      <td>USB-C Charging Cable</td>\n",
       "      <td>1</td>\n",
       "      <td>11.95</td>\n",
       "      <td>12/18/19 12:38</td>\n",
       "      <td>43 Hill St, Atlanta, GA 30301</td>\n",
       "      <td>12</td>\n",
       "      <td>11.95</td>\n",
       "      <td>Atlanta</td>\n",
       "      <td>12:38</td>\n",
       "      <td>12</td>\n",
       "    </tr>\n",
       "    <tr>\n",
       "      <th>...</th>\n",
       "      <td>...</td>\n",
       "      <td>...</td>\n",
       "      <td>...</td>\n",
       "      <td>...</td>\n",
       "      <td>...</td>\n",
       "      <td>...</td>\n",
       "      <td>...</td>\n",
       "      <td>...</td>\n",
       "      <td>...</td>\n",
       "      <td>...</td>\n",
       "      <td>...</td>\n",
       "    </tr>\n",
       "    <tr>\n",
       "      <th>13617</th>\n",
       "      <td>222905</td>\n",
       "      <td>AAA Batteries (4-pack)</td>\n",
       "      <td>1</td>\n",
       "      <td>2.99</td>\n",
       "      <td>06/07/19 19:02</td>\n",
       "      <td>795 Pine St, Boston, MA 02215</td>\n",
       "      <td>06</td>\n",
       "      <td>2.99</td>\n",
       "      <td>Boston</td>\n",
       "      <td>19:02</td>\n",
       "      <td>19</td>\n",
       "    </tr>\n",
       "    <tr>\n",
       "      <th>13618</th>\n",
       "      <td>222906</td>\n",
       "      <td>27in FHD Monitor</td>\n",
       "      <td>1</td>\n",
       "      <td>149.99</td>\n",
       "      <td>06/01/19 19:29</td>\n",
       "      <td>495 North St, New York City, NY 10001</td>\n",
       "      <td>06</td>\n",
       "      <td>149.99</td>\n",
       "      <td>New York City</td>\n",
       "      <td>19:29</td>\n",
       "      <td>19</td>\n",
       "    </tr>\n",
       "    <tr>\n",
       "      <th>13619</th>\n",
       "      <td>222907</td>\n",
       "      <td>USB-C Charging Cable</td>\n",
       "      <td>1</td>\n",
       "      <td>11.95</td>\n",
       "      <td>06/22/19 18:57</td>\n",
       "      <td>319 Ridge St, San Francisco, CA 94016</td>\n",
       "      <td>06</td>\n",
       "      <td>11.95</td>\n",
       "      <td>San Francisco</td>\n",
       "      <td>18:57</td>\n",
       "      <td>18</td>\n",
       "    </tr>\n",
       "    <tr>\n",
       "      <th>13620</th>\n",
       "      <td>222908</td>\n",
       "      <td>USB-C Charging Cable</td>\n",
       "      <td>1</td>\n",
       "      <td>11.95</td>\n",
       "      <td>06/26/19 18:35</td>\n",
       "      <td>916 Main St, San Francisco, CA 94016</td>\n",
       "      <td>06</td>\n",
       "      <td>11.95</td>\n",
       "      <td>San Francisco</td>\n",
       "      <td>18:35</td>\n",
       "      <td>18</td>\n",
       "    </tr>\n",
       "    <tr>\n",
       "      <th>13621</th>\n",
       "      <td>222909</td>\n",
       "      <td>AAA Batteries (4-pack)</td>\n",
       "      <td>1</td>\n",
       "      <td>2.99</td>\n",
       "      <td>06/25/19 14:33</td>\n",
       "      <td>209 11th St, Atlanta, GA 30301</td>\n",
       "      <td>06</td>\n",
       "      <td>2.99</td>\n",
       "      <td>Atlanta</td>\n",
       "      <td>14:33</td>\n",
       "      <td>14</td>\n",
       "    </tr>\n",
       "  </tbody>\n",
       "</table>\n",
       "<p>185950 rows × 11 columns</p>\n",
       "</div>"
      ],
      "text/plain": [
       "      Order ID                 Product  Quantity Ordered  Price Each  \\\n",
       "0       295665      Macbook Pro Laptop                 1     1700.00   \n",
       "1       295666      LG Washing Machine                 1      600.00   \n",
       "2       295667    USB-C Charging Cable                 1       11.95   \n",
       "3       295668        27in FHD Monitor                 1      149.99   \n",
       "4       295669    USB-C Charging Cable                 1       11.95   \n",
       "...        ...                     ...               ...         ...   \n",
       "13617   222905  AAA Batteries (4-pack)                 1        2.99   \n",
       "13618   222906        27in FHD Monitor                 1      149.99   \n",
       "13619   222907    USB-C Charging Cable                 1       11.95   \n",
       "13620   222908    USB-C Charging Cable                 1       11.95   \n",
       "13621   222909  AAA Batteries (4-pack)                 1        2.99   \n",
       "\n",
       "           Order Date                        Purchase Address Month  \\\n",
       "0      12/30/19 00:01  136 Church St, New York City, NY 10001    12   \n",
       "1      12/29/19 07:03     562 2nd St, New York City, NY 10001    12   \n",
       "2      12/12/19 18:21    277 Main St, New York City, NY 10001    12   \n",
       "3      12/22/19 15:13     410 6th St, San Francisco, CA 94016    12   \n",
       "4      12/18/19 12:38           43 Hill St, Atlanta, GA 30301    12   \n",
       "...               ...                                     ...   ...   \n",
       "13617  06/07/19 19:02           795 Pine St, Boston, MA 02215    06   \n",
       "13618  06/01/19 19:29   495 North St, New York City, NY 10001    06   \n",
       "13619  06/22/19 18:57   319 Ridge St, San Francisco, CA 94016    06   \n",
       "13620  06/26/19 18:35    916 Main St, San Francisco, CA 94016    06   \n",
       "13621  06/25/19 14:33          209 11th St, Atlanta, GA 30301    06   \n",
       "\n",
       "       Total_Sales            City   Time Hour  \n",
       "0          1700.00   New York City  00:01   00  \n",
       "1           600.00   New York City  07:03   07  \n",
       "2            11.95   New York City  18:21   18  \n",
       "3           149.99   San Francisco  15:13   15  \n",
       "4            11.95         Atlanta  12:38   12  \n",
       "...            ...             ...    ...  ...  \n",
       "13617         2.99          Boston  19:02   19  \n",
       "13618       149.99   New York City  19:29   19  \n",
       "13619        11.95   San Francisco  18:57   18  \n",
       "13620        11.95   San Francisco  18:35   18  \n",
       "13621         2.99         Atlanta  14:33   14  \n",
       "\n",
       "[185950 rows x 11 columns]"
      ]
     },
     "execution_count": 46,
     "metadata": {},
     "output_type": "execute_result"
    }
   ],
   "source": [
    "data_base1['Hour'] = data_base1['Time'].apply(Hour)\n",
    "\n",
    "data_base1"
   ]
  },
  {
   "cell_type": "markdown",
   "id": "761ea27f",
   "metadata": {},
   "source": [
    "# Hour during which highest number of sales was recorded\n"
   ]
  },
  {
   "cell_type": "code",
   "execution_count": 47,
   "id": "c26b1f67",
   "metadata": {},
   "outputs": [
    {
     "data": {
      "text/plain": [
       "Hour\n",
       "00     713721.27\n",
       "01     460866.88\n",
       "02     234851.44\n",
       "03     145757.89\n",
       "04     162661.01\n",
       "05     230679.82\n",
       "06     448113.00\n",
       "07     744854.12\n",
       "08    1192348.97\n",
       "09    1639030.58\n",
       "10    1944286.77\n",
       "11    2300610.24\n",
       "12    2316821.34\n",
       "13    2155389.80\n",
       "14    2083672.73\n",
       "15    1941549.60\n",
       "16    1904601.31\n",
       "17    2129361.61\n",
       "18    2219348.30\n",
       "19    2412938.54\n",
       "20    2281716.24\n",
       "21    2042000.86\n",
       "22    1607549.21\n",
       "23    1179304.44\n",
       "Name: Total_Sales, dtype: float64"
      ]
     },
     "execution_count": 47,
     "metadata": {},
     "output_type": "execute_result"
    }
   ],
   "source": [
    "hour_total_sales = data_base1.groupby('Hour')['Total_Sales'].sum()\n",
    "\n",
    "hour_total_sales"
   ]
  },
  {
   "cell_type": "markdown",
   "id": "eaff27e0",
   "metadata": {},
   "source": [
    "# Graphic representation"
   ]
  },
  {
   "cell_type": "code",
   "execution_count": 48,
   "id": "af2f1223",
   "metadata": {},
   "outputs": [
    {
     "data": {
      "image/png": "[encoded data removed]",
      "text/plain": [
       "<Figure size 800x600 with 1 Axes>"
      ]
     },
     "metadata": {},
     "output_type": "display_data"
    }
   ],
   "source": [
    "plt.figure(figsize = (8,6))\n",
    "\n",
    "plt.bar(hour_total_sales.index,hour_total_sales.values)\n",
    "plt.xticks(hour_total_sales.index)\n",
    "\n",
    "plt.title('Hour during which highest number of sales was recorded')\n",
    "plt.xlabel('Hour')\n",
    "plt.ylabel('Total Sales in USD')\n",
    "\n",
    "plt.savefig('fig4.jpg')\n",
    "plt.show()\n"
   ]
  },
  {
   "cell_type": "markdown",
   "id": "30d08f2e",
   "metadata": {},
   "source": [
    "# Product which brought in the most revenue\n"
   ]
  },
  {
   "cell_type": "code",
   "execution_count": 49,
   "id": "3cf68c59",
   "metadata": {},
   "outputs": [
    {
     "data": {
      "text/plain": [
       "Product\n",
       "20in Monitor                   454148.71\n",
       "27in 4K Gaming Monitor        2435097.56\n",
       "27in FHD Monitor              1132424.50\n",
       "34in Ultrawide Monitor        2355558.01\n",
       "AA Batteries (4-pack)          106118.40\n",
       "AAA Batteries (4-pack)          92740.83\n",
       "Apple Airpods Headphones      2349150.00\n",
       "Bose SoundSport Headphones    1345565.43\n",
       "Flatscreen TV                 1445700.00\n",
       "Google Phone                  3319200.00\n",
       "LG Dryer                       387600.00\n",
       "LG Washing Machine             399600.00\n",
       "Lightning Charging Cable       347094.15\n",
       "Macbook Pro Laptop            8037600.00\n",
       "ThinkPad Laptop               4129958.70\n",
       "USB-C Charging Cable           286501.25\n",
       "Vareebadd Phone                827200.00\n",
       "Wired Headphones               246478.43\n",
       "iPhone                        4794300.00\n",
       "Name: Total_Sales, dtype: float64"
      ]
     },
     "execution_count": 49,
     "metadata": {},
     "output_type": "execute_result"
    }
   ],
   "source": [
    "product_total = data_base1.groupby('Product')['Total_Sales'].sum()\n",
    "\n",
    "product_total"
   ]
  },
  {
   "cell_type": "markdown",
   "id": "6e1ee00f",
   "metadata": {},
   "source": [
    " # Graphic Representation"
   ]
  },
  {
   "cell_type": "code",
   "execution_count": 59,
   "id": "a61a2b06",
   "metadata": {},
   "outputs": [
    {
     "data": {
      "image/png": "[encoded data removed]",
      "text/plain": [
       "<Figure size 800x600 with 1 Axes>"
      ]
     },
     "metadata": {},
     "output_type": "display_data"
    }
   ],
   "source": [
    "plt.figure(figsize = (8,6))\n",
    "\n",
    "plt.bar(product_total.index, product_total.values)\n",
    "plt.xticks(rotation = 'vertical')\n",
    "\n",
    "plt.title('Product which brought in the most revenue')\n",
    "plt.xlabel('Product Name')\n",
    "plt.ylabel('Total in USD')\n",
    "\n",
    "plt.savefig('fig5.jpg')\n",
    "plt.show()"
   ]
  },
  {
   "cell_type": "markdown",
   "id": "814f2569",
   "metadata": {},
   "source": [
    "# Quantity of each product sold\n"
   ]
  },
  {
   "cell_type": "code",
   "execution_count": 51,
   "id": "81fb562b",
   "metadata": {},
   "outputs": [
    {
     "data": {
      "text/plain": [
       "Product\n",
       "20in Monitor                   4129\n",
       "27in 4K Gaming Monitor         6244\n",
       "27in FHD Monitor               7550\n",
       "34in Ultrawide Monitor         6199\n",
       "AA Batteries (4-pack)         27635\n",
       "AAA Batteries (4-pack)        31017\n",
       "Apple Airpods Headphones      15661\n",
       "Bose SoundSport Headphones    13457\n",
       "Flatscreen TV                  4819\n",
       "Google Phone                   5532\n",
       "LG Dryer                        646\n",
       "LG Washing Machine              666\n",
       "Lightning Charging Cable      23217\n",
       "Macbook Pro Laptop             4728\n",
       "ThinkPad Laptop                4130\n",
       "USB-C Charging Cable          23975\n",
       "Vareebadd Phone                2068\n",
       "Wired Headphones              20557\n",
       "iPhone                         6849\n",
       "Name: Quantity Ordered, dtype: int64"
      ]
     },
     "execution_count": 51,
     "metadata": {},
     "output_type": "execute_result"
    }
   ],
   "source": [
    "product_quantity = data_base1.groupby('Product')['Quantity Ordered'].sum()\n",
    "product_quantity"
   ]
  },
  {
   "cell_type": "markdown",
   "id": "7151a443",
   "metadata": {},
   "source": [
    "# Graphic Representation"
   ]
  },
  {
   "cell_type": "code",
   "execution_count": 52,
   "id": "ca5afc7c",
   "metadata": {},
   "outputs": [
    {
     "data": {
      "image/png": "[encoded data removed]",
      "text/plain": [
       "<Figure size 800x600 with 1 Axes>"
      ]
     },
     "metadata": {},
     "output_type": "display_data"
    }
   ],
   "source": [
    "plt.figure(figsize = (8,6))\n",
    "\n",
    "plt.bar(product_quantity.index,product_quantity.values)\n",
    "\n",
    "plt.title('Quantity of each product sold')\n",
    "plt.xticks(rotation = 'vertical')\n",
    "plt.xlabel('Product Name')\n",
    "plt.ylabel('Quantity Ordered')\n",
    "\n",
    "plt.savefig('fig6.jpg')\n",
    "plt.show()"
   ]
  },
  {
   "cell_type": "markdown",
   "id": "1f8e8ab6",
   "metadata": {},
   "source": [
    "# Mean unit price of each product across all the states"
   ]
  },
  {
   "cell_type": "code",
   "execution_count": 53,
   "id": "2e66479b",
   "metadata": {},
   "outputs": [
    {
     "data": {
      "text/plain": [
       "Product\n",
       "20in Monitor                   109.99\n",
       "27in 4K Gaming Monitor         389.99\n",
       "27in FHD Monitor               149.99\n",
       "34in Ultrawide Monitor         379.99\n",
       "AA Batteries (4-pack)            3.84\n",
       "AAA Batteries (4-pack)           2.99\n",
       "Apple Airpods Headphones       150.00\n",
       "Bose SoundSport Headphones      99.99\n",
       "Flatscreen TV                  300.00\n",
       "Google Phone                   600.00\n",
       "LG Dryer                       600.00\n",
       "LG Washing Machine             600.00\n",
       "Lightning Charging Cable        14.95\n",
       "Macbook Pro Laptop            1700.00\n",
       "ThinkPad Laptop                999.99\n",
       "USB-C Charging Cable            11.95\n",
       "Vareebadd Phone                400.00\n",
       "Wired Headphones                11.99\n",
       "iPhone                         700.00\n",
       "Name: Price Each, dtype: float64"
      ]
     },
     "execution_count": 53,
     "metadata": {},
     "output_type": "execute_result"
    }
   ],
   "source": [
    "product_meanprice = data_base1.groupby('Product')['Price Each'].mean()\n",
    "\n",
    "product_meanprice"
   ]
  },
  {
   "cell_type": "markdown",
   "id": "40b605e9",
   "metadata": {},
   "source": [
    "# Graphic Representation"
   ]
  },
  {
   "cell_type": "code",
   "execution_count": 54,
   "id": "12f69bfe",
   "metadata": {},
   "outputs": [
    {
     "data": {
      "image/png": "[encoded data removed]",
      "text/plain": [
       "<Figure size 800x600 with 1 Axes>"
      ]
     },
     "metadata": {},
     "output_type": "display_data"
    }
   ],
   "source": [
    "plt.figure(figsize = (8,6))\n",
    "\n",
    "plt.bar(product_meanprice.index,product_meanprice.values)\n",
    "\n",
    "plt.title('Mean unit price of each product')\n",
    "plt.xticks(rotation = 'vertical')\n",
    "plt.xlabel('Product Name')\n",
    "plt.ylabel('Mean Price in USD')\n",
    "\n",
    "plt.savefig('fig7.jpg')\n",
    "plt.show()"
   ]
  },
  {
   "cell_type": "markdown",
   "id": "ee4cfdc9",
   "metadata": {},
   "source": [
    "# Visualization of mean unit price of each product and number of products sold on thesame graphic"
   ]
  },
  {
   "cell_type": "code",
   "execution_count": 55,
   "id": "0f237d43",
   "metadata": {},
   "outputs": [
    {
     "data": {
      "image/png": "[encoded data removed]",
      "text/plain": [
       "<Figure size 1000x500 with 2 Axes>"
      ]
     },
     "metadata": {},
     "output_type": "display_data"
    }
   ],
   "source": [
    "plt.figure(figsize = (10,5))\n",
    "\n",
    "plt.subplot(1, 2, 1)\n",
    "plt.title (\"Average Unit Price of each product\")\n",
    "plt.bar(product_meanprice.index,product_meanprice.values)\n",
    "plt.xticks(rotation=\"vertical\")\n",
    "plt.ylabel(\"Mean Price\")\n",
    "plt.xlabel('Product Name')\n",
    "\n",
    "\n",
    "\n",
    "\n",
    "plt.subplot(1, 2, 2)\n",
    "plt.title(\"Quantity of each product sold\")\n",
    "plt.bar(product_quantity.index,product_quantity.values)\n",
    "plt.xticks(rotation=\"vertical\")\n",
    "plt.ylabel(\"Quantity Ordered\")\n",
    "plt.xlabel('Product Name')\n",
    "\n",
    "plt.savefig('fig8.jpg')\n",
    "\n"
   ]
  },
  {
   "cell_type": "markdown",
   "id": "206c78b0",
   "metadata": {},
   "source": [
    "# Visualization of the above graph on one graph with different colors"
   ]
  },
  {
   "cell_type": "code",
   "execution_count": 56,
   "id": "6e3f2a0e",
   "metadata": {},
   "outputs": [],
   "source": [
    "total_quantityordered = data_base1.groupby('Product')['Quantity Ordered'].sum().index\n",
    "\n",
    "\n",
    "product_quantity = data_base1.groupby('Product')['Quantity Ordered'].sum()\n",
    "\n",
    "mean_product_price = data_base1.groupby('Product')['Price Each'].sum()"
   ]
  },
  {
   "cell_type": "code",
   "execution_count": 57,
   "id": "09772672",
   "metadata": {},
   "outputs": [
    {
     "name": "stderr",
     "output_type": "stream",
     "text": [
      "/var/folders/ms/gtqm6sgn3h9gj21_t32_d2940000gn/T/ipykernel_44021/2830584476.py:11: UserWarning: FixedFormatter should only be used together with FixedLocator\n",
      "  ax1.set_xticklabels(total_quantityordered, rotation=\"vertical\", size= 8)\n"
     ]
    },
    {
     "data": {
      "text/plain": [
       "<Figure size 800x600 with 0 Axes>"
      ]
     },
     "metadata": {},
     "output_type": "display_data"
    },
    {
     "data": {
      "image/png": "[encoded data removed]",
      "text/plain": [
       "<Figure size 640x480 with 2 Axes>"
      ]
     },
     "metadata": {},
     "output_type": "display_data"
    }
   ],
   "source": [
    "plt.figure(figsize=(8,6))\n",
    "\n",
    "fig, ax1 = plt.subplots()\n",
    "\n",
    "ax2 = ax1.twinx()\n",
    "\n",
    "ax1.bar(total_quantityordered,product_quantity, color=\"red\")\n",
    "\n",
    "ax2.bar(total_quantityordered, mean_product_price, color=\"blue\")\n",
    "\n",
    "ax1.set_xticklabels(total_quantityordered, rotation=\"vertical\", size= 8)\n",
    "\n",
    "plt.savefig('fig9.jpg')\n"
   ]
  },
  {
   "cell_type": "code",
   "execution_count": 58,
   "id": "e4269fb2",
   "metadata": {},
   "outputs": [
    {
     "name": "stderr",
     "output_type": "stream",
     "text": [
      "/var/folders/ms/gtqm6sgn3h9gj21_t32_d2940000gn/T/ipykernel_44021/1331928580.py:10: UserWarning: FixedFormatter should only be used together with FixedLocator\n",
      "  ax1.set_xticklabels(total_quantityordered, rotation=\"vertical\", size= 8)\n",
      "No artists with labels found to put in legend.  Note that artists whose label start with an underscore are ignored when legend() is called with no argument.\n"
     ]
    },
    {
     "data": {
      "text/plain": [
       "<Figure size 800x600 with 0 Axes>"
      ]
     },
     "metadata": {},
     "output_type": "display_data"
    },
    {
     "data": {
      "image/png": "[encoded data removed]",
      "text/plain": [
       "<Figure size 640x480 with 2 Axes>"
      ]
     },
     "metadata": {},
     "output_type": "display_data"
    }
   ],
   "source": [
    "plt.figure(figsize=(8,6))\n",
    "\n",
    "fig, ax1 = plt.subplots()\n",
    "\n",
    "ax2 = ax1.twinx()\n",
    "\n",
    "\n",
    "ax1.bar(total_quantityordered,product_quantity, color=\"red\")\n",
    "ax2.plot(total_quantityordered,  mean_product_price, color=\"blue\")\n",
    "ax1.set_xticklabels(total_quantityordered, rotation=\"vertical\", size= 8)\n",
    "\n",
    "plt.legend()\n",
    "plt.savefig('fig10.jpg')"
   ]
  },
  {
   "cell_type": "code",
   "execution_count": null,
   "id": "e38a275f",
   "metadata": {},
   "outputs": [],
   "source": []
  },
  {
   "cell_type": "code",
   "execution_count": null,
   "id": "ec1830b7",
   "metadata": {},
   "outputs": [],
   "source": []
  },
  {
   "cell_type": "code",
   "execution_count": null,
   "id": "aa9b4a10",
   "metadata": {},
   "outputs": [],
   "source": []
  },
  {
   "cell_type": "code",
   "execution_count": null,
   "id": "8207238b",
   "metadata": {},
   "outputs": [],
   "source": []
  },
  {
   "cell_type": "code",
   "execution_count": null,
   "id": "effae921",
   "metadata": {},
   "outputs": [],
   "source": []
  }
 ],
 "metadata": {
  "kernelspec": {
   "display_name": "Python 3 (ipykernel)",
   "language": "python",
   "name": "python3"
  },
  "language_info": {
   "codemirror_mode": {
    "name": "ipython",
    "version": 3
   },
   "file_extension": ".py",
   "mimetype": "text/x-python",
   "name": "python",
   "nbconvert_exporter": "python",
   "pygments_lexer": "ipython3",
   "version": "3.9.13"
  }
 },
 "nbformat": 4,
 "nbformat_minor": 5
}
